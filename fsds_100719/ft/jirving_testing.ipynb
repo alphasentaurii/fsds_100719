{
 "cells": [
  {
   "cell_type": "markdown",
   "metadata": {},
   "source": [
    "# Testing Notebook - jirving template\n"
   ]
  },
  {
   "cell_type": "code",
   "execution_count": 1,
   "metadata": {},
   "outputs": [
    {
     "name": "stdout",
     "output_type": "stream",
     "text": [
      "fsds_1007219  v0.4.42 loaded.  Read the docs: https://fsds.readthedocs.io/en/latest/ \n"
     ]
    },
    {
     "data": {
      "text/html": [
       "<style  type=\"text/css\" >\n",
       "</style><table id=\"T_1c92180c_12eb_11ea_9f7d_a683e748ff0e\" ><caption>Loaded Packages and Handles</caption><thead>    <tr>        <th class=\"col_heading level0 col0\" >Handle</th>        <th class=\"col_heading level0 col1\" >Package</th>        <th class=\"col_heading level0 col2\" >Description</th>    </tr></thead><tbody>\n",
       "                <tr>\n",
       "                                <td id=\"T_1c92180c_12eb_11ea_9f7d_a683e748ff0erow0_col0\" class=\"data row0 col0\" >dp</td>\n",
       "                        <td id=\"T_1c92180c_12eb_11ea_9f7d_a683e748ff0erow0_col1\" class=\"data row0 col1\" >IPython.display</td>\n",
       "                        <td id=\"T_1c92180c_12eb_11ea_9f7d_a683e748ff0erow0_col2\" class=\"data row0 col2\" >Display modules with helpful display and clearing commands.</td>\n",
       "            </tr>\n",
       "            <tr>\n",
       "                                <td id=\"T_1c92180c_12eb_11ea_9f7d_a683e748ff0erow1_col0\" class=\"data row1 col0\" >fs</td>\n",
       "                        <td id=\"T_1c92180c_12eb_11ea_9f7d_a683e748ff0erow1_col1\" class=\"data row1 col1\" >fsds_100719</td>\n",
       "                        <td id=\"T_1c92180c_12eb_11ea_9f7d_a683e748ff0erow1_col2\" class=\"data row1 col2\" >Custom data science bootcamp student package</td>\n",
       "            </tr>\n",
       "            <tr>\n",
       "                                <td id=\"T_1c92180c_12eb_11ea_9f7d_a683e748ff0erow2_col0\" class=\"data row2 col0\" >mpl</td>\n",
       "                        <td id=\"T_1c92180c_12eb_11ea_9f7d_a683e748ff0erow2_col1\" class=\"data row2 col1\" >matplotlib</td>\n",
       "                        <td id=\"T_1c92180c_12eb_11ea_9f7d_a683e748ff0erow2_col2\" class=\"data row2 col2\" >Matplotlib's base OOP module with formatting artists</td>\n",
       "            </tr>\n",
       "            <tr>\n",
       "                                <td id=\"T_1c92180c_12eb_11ea_9f7d_a683e748ff0erow3_col0\" class=\"data row3 col0\" >plt</td>\n",
       "                        <td id=\"T_1c92180c_12eb_11ea_9f7d_a683e748ff0erow3_col1\" class=\"data row3 col1\" >matplotlib.pyplot</td>\n",
       "                        <td id=\"T_1c92180c_12eb_11ea_9f7d_a683e748ff0erow3_col2\" class=\"data row3 col2\" >Matplotlib's matlab-like plotting module</td>\n",
       "            </tr>\n",
       "            <tr>\n",
       "                                <td id=\"T_1c92180c_12eb_11ea_9f7d_a683e748ff0erow4_col0\" class=\"data row4 col0\" >np</td>\n",
       "                        <td id=\"T_1c92180c_12eb_11ea_9f7d_a683e748ff0erow4_col1\" class=\"data row4 col1\" >numpy</td>\n",
       "                        <td id=\"T_1c92180c_12eb_11ea_9f7d_a683e748ff0erow4_col2\" class=\"data row4 col2\" >scientific computing with Python</td>\n",
       "            </tr>\n",
       "            <tr>\n",
       "                                <td id=\"T_1c92180c_12eb_11ea_9f7d_a683e748ff0erow5_col0\" class=\"data row5 col0\" >pd</td>\n",
       "                        <td id=\"T_1c92180c_12eb_11ea_9f7d_a683e748ff0erow5_col1\" class=\"data row5 col1\" >pandas</td>\n",
       "                        <td id=\"T_1c92180c_12eb_11ea_9f7d_a683e748ff0erow5_col2\" class=\"data row5 col2\" >High performance data structures and tools</td>\n",
       "            </tr>\n",
       "            <tr>\n",
       "                                <td id=\"T_1c92180c_12eb_11ea_9f7d_a683e748ff0erow6_col0\" class=\"data row6 col0\" >sns</td>\n",
       "                        <td id=\"T_1c92180c_12eb_11ea_9f7d_a683e748ff0erow6_col1\" class=\"data row6 col1\" >seaborn</td>\n",
       "                        <td id=\"T_1c92180c_12eb_11ea_9f7d_a683e748ff0erow6_col2\" class=\"data row6 col2\" >High-level data visualization library based on matplotlib</td>\n",
       "            </tr>\n",
       "    </tbody></table>"
      ],
      "text/plain": [
       "<pandas.io.formats.style.Styler at 0x10cd0d160>"
      ]
     },
     "metadata": {},
     "output_type": "display_data"
    }
   ],
   "source": [
    "!pip install -U fsds_100719\n",
    "from fsds_100719.imports import *"
   ]
  },
  {
   "cell_type": "code",
   "execution_count": 2,
   "metadata": {},
   "outputs": [
    {
     "name": "stdout",
     "output_type": "stream",
     "text": [
      "Help on module jirving:\n",
      "\n",
      "NAME\n",
      "    jirving\n",
      "\n",
      "DESCRIPTION\n",
      "    My Template Module \n",
      "    Name: James M. Irving\n",
      "    Email: james.irving.phd@gmail.com\n",
      "    GitHub Profile: https://github.com/jirvingphd\n",
      "\n",
      "FUNCTIONS\n",
      "    check_column(df, col_name, n_unique=10)\n",
      "        Displays info on null values, datatype, unqiue values\n",
      "        and displays .describe()\n",
      "        \n",
      "        Args:\n",
      "            df (df): contains the columns\n",
      "            col_name (str): name of the df column to show\n",
      "            n_unique (int): Number of unique values top show.\n",
      "        \n",
      "        Return:\n",
      "            fig, ax (Matplotlib Figure and Axes)\n",
      "    \n",
      "    testing()\n",
      "\n",
      "FILE\n",
      "    /Users/jamesirving/Documents/GitHub/_STUDY GROUP PREP/fsds_100719/fsds_100719/ft/jirving.py\n",
      "\n",
      "\n"
     ]
    }
   ],
   "source": [
    "from fsds_100719.ds import ihelp, reload\n",
    "## Instead of jirving, use your .py file name\n",
    "import jirving as ji\n",
    "help(ji)"
   ]
  },
  {
   "cell_type": "code",
   "execution_count": 3,
   "metadata": {},
   "outputs": [
    {
     "data": {
      "text/html": [
       "<div>\n",
       "<style scoped>\n",
       "    .dataframe tbody tr th:only-of-type {\n",
       "        vertical-align: middle;\n",
       "    }\n",
       "\n",
       "    .dataframe tbody tr th {\n",
       "        vertical-align: top;\n",
       "    }\n",
       "\n",
       "    .dataframe thead th {\n",
       "        text-align: right;\n",
       "    }\n",
       "</style>\n",
       "<table border=\"1\" class=\"dataframe\">\n",
       "  <thead>\n",
       "    <tr style=\"text-align: right;\">\n",
       "      <th></th>\n",
       "      <th>id</th>\n",
       "      <th>date</th>\n",
       "      <th>price</th>\n",
       "      <th>bedrooms</th>\n",
       "      <th>bathrooms</th>\n",
       "      <th>sqft_living</th>\n",
       "      <th>sqft_lot</th>\n",
       "      <th>floors</th>\n",
       "      <th>waterfront</th>\n",
       "      <th>view</th>\n",
       "      <th>...</th>\n",
       "      <th>grade</th>\n",
       "      <th>sqft_above</th>\n",
       "      <th>sqft_basement</th>\n",
       "      <th>yr_built</th>\n",
       "      <th>yr_renovated</th>\n",
       "      <th>zipcode</th>\n",
       "      <th>lat</th>\n",
       "      <th>long</th>\n",
       "      <th>sqft_living15</th>\n",
       "      <th>sqft_lot15</th>\n",
       "    </tr>\n",
       "  </thead>\n",
       "  <tbody>\n",
       "    <tr>\n",
       "      <td>0</td>\n",
       "      <td>7129300520</td>\n",
       "      <td>10/13/2014</td>\n",
       "      <td>221900.0</td>\n",
       "      <td>3</td>\n",
       "      <td>1.00</td>\n",
       "      <td>1180</td>\n",
       "      <td>5650</td>\n",
       "      <td>1.0</td>\n",
       "      <td>NaN</td>\n",
       "      <td>0.0</td>\n",
       "      <td>...</td>\n",
       "      <td>7</td>\n",
       "      <td>1180</td>\n",
       "      <td>0.0</td>\n",
       "      <td>1955</td>\n",
       "      <td>0.0</td>\n",
       "      <td>98178</td>\n",
       "      <td>47.5112</td>\n",
       "      <td>-122.257</td>\n",
       "      <td>1340</td>\n",
       "      <td>5650</td>\n",
       "    </tr>\n",
       "    <tr>\n",
       "      <td>1</td>\n",
       "      <td>6414100192</td>\n",
       "      <td>12/9/2014</td>\n",
       "      <td>538000.0</td>\n",
       "      <td>3</td>\n",
       "      <td>2.25</td>\n",
       "      <td>2570</td>\n",
       "      <td>7242</td>\n",
       "      <td>2.0</td>\n",
       "      <td>0.0</td>\n",
       "      <td>0.0</td>\n",
       "      <td>...</td>\n",
       "      <td>7</td>\n",
       "      <td>2170</td>\n",
       "      <td>400.0</td>\n",
       "      <td>1951</td>\n",
       "      <td>1991.0</td>\n",
       "      <td>98125</td>\n",
       "      <td>47.7210</td>\n",
       "      <td>-122.319</td>\n",
       "      <td>1690</td>\n",
       "      <td>7639</td>\n",
       "    </tr>\n",
       "    <tr>\n",
       "      <td>2</td>\n",
       "      <td>5631500400</td>\n",
       "      <td>2/25/2015</td>\n",
       "      <td>180000.0</td>\n",
       "      <td>2</td>\n",
       "      <td>1.00</td>\n",
       "      <td>770</td>\n",
       "      <td>10000</td>\n",
       "      <td>1.0</td>\n",
       "      <td>0.0</td>\n",
       "      <td>0.0</td>\n",
       "      <td>...</td>\n",
       "      <td>6</td>\n",
       "      <td>770</td>\n",
       "      <td>0.0</td>\n",
       "      <td>1933</td>\n",
       "      <td>NaN</td>\n",
       "      <td>98028</td>\n",
       "      <td>47.7379</td>\n",
       "      <td>-122.233</td>\n",
       "      <td>2720</td>\n",
       "      <td>8062</td>\n",
       "    </tr>\n",
       "    <tr>\n",
       "      <td>3</td>\n",
       "      <td>2487200875</td>\n",
       "      <td>12/9/2014</td>\n",
       "      <td>604000.0</td>\n",
       "      <td>4</td>\n",
       "      <td>3.00</td>\n",
       "      <td>1960</td>\n",
       "      <td>5000</td>\n",
       "      <td>1.0</td>\n",
       "      <td>0.0</td>\n",
       "      <td>0.0</td>\n",
       "      <td>...</td>\n",
       "      <td>7</td>\n",
       "      <td>1050</td>\n",
       "      <td>910.0</td>\n",
       "      <td>1965</td>\n",
       "      <td>0.0</td>\n",
       "      <td>98136</td>\n",
       "      <td>47.5208</td>\n",
       "      <td>-122.393</td>\n",
       "      <td>1360</td>\n",
       "      <td>5000</td>\n",
       "    </tr>\n",
       "    <tr>\n",
       "      <td>4</td>\n",
       "      <td>1954400510</td>\n",
       "      <td>2/18/2015</td>\n",
       "      <td>510000.0</td>\n",
       "      <td>3</td>\n",
       "      <td>2.00</td>\n",
       "      <td>1680</td>\n",
       "      <td>8080</td>\n",
       "      <td>1.0</td>\n",
       "      <td>0.0</td>\n",
       "      <td>0.0</td>\n",
       "      <td>...</td>\n",
       "      <td>8</td>\n",
       "      <td>1680</td>\n",
       "      <td>0.0</td>\n",
       "      <td>1987</td>\n",
       "      <td>0.0</td>\n",
       "      <td>98074</td>\n",
       "      <td>47.6168</td>\n",
       "      <td>-122.045</td>\n",
       "      <td>1800</td>\n",
       "      <td>7503</td>\n",
       "    </tr>\n",
       "  </tbody>\n",
       "</table>\n",
       "<p>5 rows × 21 columns</p>\n",
       "</div>"
      ],
      "text/plain": [
       "           id        date     price  bedrooms  bathrooms  sqft_living  \\\n",
       "0  7129300520  10/13/2014  221900.0         3       1.00         1180   \n",
       "1  6414100192   12/9/2014  538000.0         3       2.25         2570   \n",
       "2  5631500400   2/25/2015  180000.0         2       1.00          770   \n",
       "3  2487200875   12/9/2014  604000.0         4       3.00         1960   \n",
       "4  1954400510   2/18/2015  510000.0         3       2.00         1680   \n",
       "\n",
       "   sqft_lot  floors  waterfront  view  ...  grade  sqft_above  sqft_basement  \\\n",
       "0      5650     1.0         NaN   0.0  ...      7        1180            0.0   \n",
       "1      7242     2.0         0.0   0.0  ...      7        2170          400.0   \n",
       "2     10000     1.0         0.0   0.0  ...      6         770            0.0   \n",
       "3      5000     1.0         0.0   0.0  ...      7        1050          910.0   \n",
       "4      8080     1.0         0.0   0.0  ...      8        1680            0.0   \n",
       "\n",
       "  yr_built  yr_renovated  zipcode      lat     long  sqft_living15  sqft_lot15  \n",
       "0     1955           0.0    98178  47.5112 -122.257           1340        5650  \n",
       "1     1951        1991.0    98125  47.7210 -122.319           1690        7639  \n",
       "2     1933           NaN    98028  47.7379 -122.233           2720        8062  \n",
       "3     1965           0.0    98136  47.5208 -122.393           1360        5000  \n",
       "4     1987           0.0    98074  47.6168 -122.045           1800        7503  \n",
       "\n",
       "[5 rows x 21 columns]"
      ]
     },
     "execution_count": 3,
     "metadata": {},
     "output_type": "execute_result"
    }
   ],
   "source": [
    "df = fs.datasets.load_mod1_proj()\n",
    "df.head()"
   ]
  },
  {
   "cell_type": "code",
   "execution_count": 4,
   "metadata": {},
   "outputs": [
    {
     "name": "stdout",
     "output_type": "stream",
     "text": [
      "Reloading...\n",
      "\n"
     ]
    },
    {
     "data": {
      "text/plain": [
       "<module 'jirving' from '/Users/jamesirving/Documents/GitHub/_STUDY GROUP PREP/fsds_100719/fsds_100719/ft/jirving.py'>"
      ]
     },
     "execution_count": 4,
     "metadata": {},
     "output_type": "execute_result"
    }
   ],
   "source": [
    "reload(ji)"
   ]
  },
  {
   "cell_type": "code",
   "execution_count": 5,
   "metadata": {},
   "outputs": [
    {
     "name": "stdout",
     "output_type": "stream",
     "text": [
      "DataType:\n",
      "\t int64\n",
      "Null Values Present = 0\n"
     ]
    },
    {
     "data": {
      "text/plain": [
       "count    21597.000\n",
       "mean         3.410\n",
       "std          0.651\n",
       "min          1.000\n",
       "25%          3.000\n",
       "50%          3.000\n",
       "75%          4.000\n",
       "max          5.000\n",
       "Name: condition, dtype: float64"
      ]
     },
     "metadata": {},
     "output_type": "display_data"
    },
    {
     "name": "stdout",
     "output_type": "stream",
     "text": [
      "\n",
      "Value Counts:\n"
     ]
    },
    {
     "data": {
      "text/plain": [
       "3    0.649164\n",
       "4    0.262861\n",
       "5    0.078761\n",
       "2    0.007871\n",
       "1    0.001343\n",
       "Name: condition, dtype: float64"
      ]
     },
     "metadata": {},
     "output_type": "display_data"
    },
    {
     "data": {
      "text/plain": [
       "(<Figure size 432x288 with 2 Axes>,\n",
       " array([<matplotlib.axes._subplots.AxesSubplot object at 0x10df3fe10>,\n",
       "        <matplotlib.axes._subplots.AxesSubplot object at 0x1223df5f8>],\n",
       "       dtype=object))"
      ]
     },
     "execution_count": 5,
     "metadata": {},
     "output_type": "execute_result"
    },
    {
     "data": {
      "image/png": "[encoded data removed]",
      "text/plain": [
       "<Figure size 432x288 with 2 Axes>"
      ]
     },
     "metadata": {
      "needs_background": "light"
     },
     "output_type": "display_data"
    }
   ],
   "source": [
    "ji.check_column(df,'condition')"
   ]
  },
  {
   "cell_type": "code",
   "execution_count": 6,
   "metadata": {},
   "outputs": [
    {
     "data": {
      "application/vnd.jupyter.widget-view+json": {
       "model_id": "eefd3f6c116947b3879e3e35bdd5e3c8",
       "version_major": 2,
       "version_minor": 0
      },
      "text/plain": [
       "GridBox(box_style='warning', children=(VBox(children=(Label(value='iHelp Menu: View Help and/or Source Code'),…"
      ]
     },
     "metadata": {},
     "output_type": "display_data"
    },
    {
     "data": {
      "application/vnd.jupyter.widget-view+json": {
       "model_id": "f9d8327fa7034d268ce01af874d5c6b6",
       "version_major": 2,
       "version_minor": 0
      },
      "text/plain": [
       "Output()"
      ]
     },
     "metadata": {},
     "output_type": "display_data"
    }
   ],
   "source": [
    "fs.ds.ihelp_menu(ji.check_column)"
   ]
  },
  {
   "cell_type": "code",
   "execution_count": 9,
   "metadata": {},
   "outputs": [
    {
     "name": "stdout",
     "output_type": "stream",
     "text": [
      "Help on package fsds_100719.ft in fsds_100719:\n",
      "\n",
      "NAME\n",
      "    fsds_100719.ft\n",
      "\n",
      "DESCRIPTION\n",
      "    A collection of submodules by online-ds-ft-100719.\n",
      "    Maintained by James Irving (GitHub: jirvingphd)\n",
      "    james.irving@flatironschool.com\n",
      "\n",
      "PACKAGE CONTENTS\n",
      "    hakkeray\n",
      "    jirving\n",
      "\n",
      "FILE\n",
      "    //anaconda3/envs/learn-env/lib/python3.6/site-packages/fsds_100719/ft/__init__.py\n",
      "\n",
      "\n"
     ]
    }
   ],
   "source": [
    "help(fs.ft)"
   ]
  },
  {
   "cell_type": "code",
   "execution_count": null,
   "metadata": {},
   "outputs": [],
   "source": []
  }
 ],
 "metadata": {
  "file_extension": ".py",
  "kernelspec": {
   "display_name": "Python [conda env:learn-env] *",
   "language": "python",
   "name": "conda-env-learn-env-py"
  },
  "language_info": {
   "codemirror_mode": {
    "name": "ipython",
    "version": 3
   },
   "file_extension": ".py",
   "mimetype": "text/x-python",
   "name": "python",
   "nbconvert_exporter": "python",
   "pygments_lexer": "ipython3",
   "version": "3.6.9"
  },
  "mimetype": "text/x-python",
  "name": "python",
  "npconvert_exporter": "python",
  "pygments_lexer": "ipython3",
  "toc": {
   "base_numbering": 1,
   "nav_menu": {},
   "number_sections": false,
   "sideBar": true,
   "skip_h1_title": false,
   "title_cell": "Table of Contents",
   "title_sidebar": "Contents",
   "toc_cell": false,
   "toc_position": {},
   "toc_section_display": true,
   "toc_window_display": true
  },
  "varInspector": {
   "cols": {
    "lenName": 16,
    "lenType": 16,
    "lenVar": 40
   },
   "kernels_config": {
    "python": {
     "delete_cmd_postfix": "",
     "delete_cmd_prefix": "del ",
     "library": "var_list.py",
     "varRefreshCmd": "print(var_dic_list())"
    },
    "r": {
     "delete_cmd_postfix": ") ",
     "delete_cmd_prefix": "rm(",
     "library": "var_list.r",
     "varRefreshCmd": "cat(var_dic_list()) "
    }
   },
   "types_to_exclude": [
    "module",
    "function",
    "builtin_function_or_method",
    "instance",
    "_Feature"
   ],
   "window_display": false
  },
  "version": 3,
  "widgets": {
   "application/vnd.jupyter.widget-state+json": {
    "state": {
     "050090afb4a046669e1d07d6b8a7ffa6": {
      "model_module": "@jupyter-widgets/controls",
      "model_module_version": "1.5.0",
      "model_name": "LabelModel",
      "state": {
       "layout": "IPY_MODEL_9569a0bc2cdc4bdfbcb2a1b4143bc1bd",
       "style": "IPY_MODEL_3aaa5a712b41419fbb9b7214ee406655",
       "value": "iHelp Menu: View Help and/or Source Code"
      }
     },
     "057a8726c21e42d998e06a77f2a7f9af": {
      "model_module": "@jupyter-widgets/base",
      "model_module_version": "1.2.0",
      "model_name": "LayoutModel",
      "state": {}
     },
     "07ddc3f06bf54adbbfa0bd52b7f505fe": {
      "model_module": "@jupyter-widgets/controls",
      "model_module_version": "1.5.0",
      "model_name": "LabelModel",
      "state": {
       "layout": "IPY_MODEL_e02c11c2b7ff4bdabca014f01b187831",
       "style": "IPY_MODEL_e2dc730f03e8480aa2b845ec703121d6",
       "value": "iHelp Menu: View Help and/or Source Code"
      }
     },
     "19f65f81eda645f18a9dc4c7945a25ae": {
      "model_module": "@jupyter-widgets/base",
      "model_module_version": "1.2.0",
      "model_name": "LayoutModel",
      "state": {}
     },
     "3740c9203bee431d9e9029b94f47adb1": {
      "model_module": "@jupyter-widgets/controls",
      "model_module_version": "1.5.0",
      "model_name": "DescriptionStyleModel",
      "state": {
       "description_width": ""
      }
     },
     "388a5b775fc2457fb01016413d80f63c": {
      "model_module": "@jupyter-widgets/controls",
      "model_module_version": "1.5.0",
      "model_name": "DescriptionStyleModel",
      "state": {
       "description_width": ""
      }
     },
     "3aaa5a712b41419fbb9b7214ee406655": {
      "model_module": "@jupyter-widgets/controls",
      "model_module_version": "1.5.0",
      "model_name": "DescriptionStyleModel",
      "state": {
       "description_width": ""
      }
     },
     "3cc919508beb4a9da126a60dc07b2300": {
      "model_module": "@jupyter-widgets/base",
      "model_module_version": "1.2.0",
      "model_name": "LayoutModel",
      "state": {}
     },
     "3f3392c48c95437e97d0bef391873d33": {
      "model_module": "@jupyter-widgets/base",
      "model_module_version": "1.2.0",
      "model_name": "LayoutModel",
      "state": {}
     },
     "3f7f5ddb2f874c65a96eb3f741faead2": {
      "model_module": "@jupyter-widgets/base",
      "model_module_version": "1.2.0",
      "model_name": "LayoutModel",
      "state": {}
     },
     "41af368278804fa8ab347ed7f3d9396b": {
      "model_module": "@jupyter-widgets/output",
      "model_module_version": "1.0.0",
      "model_name": "OutputModel",
      "state": {
       "layout": "IPY_MODEL_6e2f6f3b967948b6a79e7a21c562193d",
       "outputs": [
        {
         "data": {
          "text/plain": "'Press \"Show/hide\" for display'"
         },
         "metadata": {},
         "output_type": "display_data"
        }
       ]
      }
     },
     "42af5dc84eea4673b3310697eb30a9a9": {
      "model_module": "@jupyter-widgets/controls",
      "model_module_version": "1.5.0",
      "model_name": "DescriptionStyleModel",
      "state": {
       "description_width": ""
      }
     },
     "48ef6ac5465848bd853008853cd1a98c": {
      "model_module": "@jupyter-widgets/base",
      "model_module_version": "1.2.0",
      "model_name": "LayoutModel",
      "state": {}
     },
     "4a4a0cc2d688448a97a7a94f934937f0": {
      "model_module": "@jupyter-widgets/controls",
      "model_module_version": "1.5.0",
      "model_name": "DescriptionStyleModel",
      "state": {
       "description_width": ""
      }
     },
     "4b89f1f5e2534cbfa74945e24a5761ea": {
      "model_module": "@jupyter-widgets/controls",
      "model_module_version": "1.5.0",
      "model_name": "DropdownModel",
      "state": {
       "_options_labels": [
        "check_column"
       ],
       "index": 0,
       "layout": "IPY_MODEL_057a8726c21e42d998e06a77f2a7f9af",
       "style": "IPY_MODEL_388a5b775fc2457fb01016413d80f63c"
      }
     },
     "506d3014e5b64f9aadd2898c7573bca2": {
      "model_module": "@jupyter-widgets/controls",
      "model_module_version": "1.5.0",
      "model_name": "CheckboxModel",
      "state": {
       "description": "Show source code",
       "disabled": false,
       "layout": "IPY_MODEL_9c3f97b8b1494f85917432e094b0496e",
       "style": "IPY_MODEL_9770d82154d7469daf679475aec1b98e",
       "value": true
      }
     },
     "52c6cfbfa931436987516bf7bd8ce3bd": {
      "model_module": "@jupyter-widgets/base",
      "model_module_version": "1.2.0",
      "model_name": "LayoutModel",
      "state": {}
     },
     "5d7df3dd91af4cae889390571bd26d88": {
      "model_module": "@jupyter-widgets/base",
      "model_module_version": "1.2.0",
      "model_name": "LayoutModel",
      "state": {}
     },
     "5e0f7f4594dc47318eda2b1d658e87f2": {
      "model_module": "@jupyter-widgets/controls",
      "model_module_version": "1.5.0",
      "model_name": "CheckboxModel",
      "state": {
       "description": "Show source filepath",
       "disabled": false,
       "layout": "IPY_MODEL_52c6cfbfa931436987516bf7bd8ce3bd",
       "style": "IPY_MODEL_f14814c630fb4bc3ab2fb769749d9602",
       "value": false
      }
     },
     "610f0391113940e384ae7f725fd0dd0f": {
      "model_module": "@jupyter-widgets/controls",
      "model_module_version": "1.5.0",
      "model_name": "HBoxModel",
      "state": {
       "children": [
        "IPY_MODEL_83c19841f8b1415f9bf3fded249cb198",
        "IPY_MODEL_7cfa37a29cab41f9816d8fb4d8fcd7ef",
        "IPY_MODEL_5e0f7f4594dc47318eda2b1d658e87f2"
       ],
       "layout": "IPY_MODEL_5d7df3dd91af4cae889390571bd26d88"
      }
     },
     "63442601bcc1468eaf452b18de857450": {
      "model_module": "@jupyter-widgets/controls",
      "model_module_version": "1.5.0",
      "model_name": "CheckboxModel",
      "state": {
       "description": "Show source filepath",
       "disabled": false,
       "layout": "IPY_MODEL_19f65f81eda645f18a9dc4c7945a25ae",
       "style": "IPY_MODEL_42af5dc84eea4673b3310697eb30a9a9",
       "value": false
      }
     },
     "635dfed9f6ca4b74a1014b4dc73794cf": {
      "model_module": "@jupyter-widgets/base",
      "model_module_version": "1.2.0",
      "model_name": "LayoutModel",
      "state": {}
     },
     "6367af69289147e7aa892860c56bc265": {
      "model_module": "@jupyter-widgets/controls",
      "model_module_version": "1.5.0",
      "model_name": "LabelModel",
      "state": {
       "layout": "IPY_MODEL_b46841a445b34b7da2eb542a2b20eaf9",
       "style": "IPY_MODEL_e06128ac46624ad9a5cc319eda753d0e",
       "value": "Function Menu"
      }
     },
     "658de461180b4a9d907077311383a6a6": {
      "model_module": "@jupyter-widgets/base",
      "model_module_version": "1.2.0",
      "model_name": "LayoutModel",
      "state": {}
     },
     "6e2f6f3b967948b6a79e7a21c562193d": {
      "model_module": "@jupyter-widgets/base",
      "model_module_version": "1.2.0",
      "model_name": "LayoutModel",
      "state": {}
     },
     "6f07bb450bb34e41a2bc22a676ffce02": {
      "model_module": "@jupyter-widgets/base",
      "model_module_version": "1.2.0",
      "model_name": "LayoutModel",
      "state": {}
     },
     "74b3b70562864187b13efa1d8da9cee0": {
      "model_module": "@jupyter-widgets/controls",
      "model_module_version": "1.5.0",
      "model_name": "HBoxModel",
      "state": {
       "children": [
        "IPY_MODEL_a84e3aa3b9674c1a8679effe4d0687c1",
        "IPY_MODEL_a508d64c72124f13b4fca15294243829",
        "IPY_MODEL_d27e9fc4f36f491f9cef0171e86879e8"
       ],
       "layout": "IPY_MODEL_3f7f5ddb2f874c65a96eb3f741faead2"
      }
     },
     "79de08f6684a47999405223039f78cb3": {
      "model_module": "@jupyter-widgets/controls",
      "model_module_version": "1.5.0",
      "model_name": "VBoxModel",
      "state": {
       "children": [
        "IPY_MODEL_050090afb4a046669e1d07d6b8a7ffa6",
        "IPY_MODEL_9f674afb090f47bfa3d8e6c487814fdb"
       ],
       "layout": "IPY_MODEL_48ef6ac5465848bd853008853cd1a98c"
      }
     },
     "7cfa37a29cab41f9816d8fb4d8fcd7ef": {
      "model_module": "@jupyter-widgets/controls",
      "model_module_version": "1.5.0",
      "model_name": "CheckboxModel",
      "state": {
       "description": "Show source code",
       "disabled": false,
       "layout": "IPY_MODEL_f97fd241d3eb47bcbf17115e050e5bdc",
       "style": "IPY_MODEL_d9adc13f48be4a3eb8f5eb6fc077e814",
       "value": true
      }
     },
     "8119713c64fd43feb7109e78a18c9474": {
      "model_module": "@jupyter-widgets/controls",
      "model_module_version": "1.5.0",
      "model_name": "DescriptionStyleModel",
      "state": {
       "description_width": ""
      }
     },
     "823b6bab48944a5591f6c8edec693883": {
      "model_module": "@jupyter-widgets/controls",
      "model_module_version": "1.5.0",
      "model_name": "ToggleButtonModel",
      "state": {
       "description": "Show/hide",
       "layout": "IPY_MODEL_aab2dfe301d3471196bc470671e1165e",
       "style": "IPY_MODEL_ea811c70aef34e548afa662241a6c32f"
      }
     },
     "83c19841f8b1415f9bf3fded249cb198": {
      "model_module": "@jupyter-widgets/controls",
      "model_module_version": "1.5.0",
      "model_name": "CheckboxModel",
      "state": {
       "description": "Show 'help(func)'",
       "disabled": false,
       "layout": "IPY_MODEL_3cc919508beb4a9da126a60dc07b2300",
       "style": "IPY_MODEL_4a4a0cc2d688448a97a7a94f934937f0",
       "value": true
      }
     },
     "9569a0bc2cdc4bdfbcb2a1b4143bc1bd": {
      "model_module": "@jupyter-widgets/base",
      "model_module_version": "1.2.0",
      "model_name": "LayoutModel",
      "state": {}
     },
     "9770d82154d7469daf679475aec1b98e": {
      "model_module": "@jupyter-widgets/controls",
      "model_module_version": "1.5.0",
      "model_name": "DescriptionStyleModel",
      "state": {
       "description_width": ""
      }
     },
     "9c3f97b8b1494f85917432e094b0496e": {
      "model_module": "@jupyter-widgets/base",
      "model_module_version": "1.2.0",
      "model_name": "LayoutModel",
      "state": {}
     },
     "9dc3b952e691428084a9714a1e4a3d6a": {
      "model_module": "@jupyter-widgets/base",
      "model_module_version": "1.2.0",
      "model_name": "LayoutModel",
      "state": {}
     },
     "9f674afb090f47bfa3d8e6c487814fdb": {
      "model_module": "@jupyter-widgets/controls",
      "model_module_version": "1.5.0",
      "model_name": "HBoxModel",
      "state": {
       "children": [
        "IPY_MODEL_6367af69289147e7aa892860c56bc265",
        "IPY_MODEL_4b89f1f5e2534cbfa74945e24a5761ea",
        "IPY_MODEL_823b6bab48944a5591f6c8edec693883"
       ],
       "layout": "IPY_MODEL_6f07bb450bb34e41a2bc22a676ffce02"
      }
     },
     "a0776d115ac644eebc2b7f119017100d": {
      "model_module": "@jupyter-widgets/base",
      "model_module_version": "1.2.0",
      "model_name": "LayoutModel",
      "state": {}
     },
     "a508d64c72124f13b4fca15294243829": {
      "model_module": "@jupyter-widgets/controls",
      "model_module_version": "1.5.0",
      "model_name": "DropdownModel",
      "state": {
       "_options_labels": [
        "check_column"
       ],
       "index": 0,
       "layout": "IPY_MODEL_a0776d115ac644eebc2b7f119017100d",
       "style": "IPY_MODEL_bb123399fee24cd6857710068b6f4080"
      }
     },
     "a557bc44cd3d40b1a39c090e878f34d3": {
      "model_module": "@jupyter-widgets/controls",
      "model_module_version": "1.5.0",
      "model_name": "CheckboxModel",
      "state": {
       "description": "Show 'help(func)'",
       "disabled": false,
       "layout": "IPY_MODEL_3f3392c48c95437e97d0bef391873d33",
       "style": "IPY_MODEL_8119713c64fd43feb7109e78a18c9474",
       "value": true
      }
     },
     "a61e6213b14e4e9d8e9a223c6d37349b": {
      "model_module": "@jupyter-widgets/base",
      "model_module_version": "1.2.0",
      "model_name": "LayoutModel",
      "state": {}
     },
     "a84e3aa3b9674c1a8679effe4d0687c1": {
      "model_module": "@jupyter-widgets/controls",
      "model_module_version": "1.5.0",
      "model_name": "LabelModel",
      "state": {
       "layout": "IPY_MODEL_a61e6213b14e4e9d8e9a223c6d37349b",
       "style": "IPY_MODEL_b564d2485982457a8baa0f89c1c28085",
       "value": "Function Menu"
      }
     },
     "aab2dfe301d3471196bc470671e1165e": {
      "model_module": "@jupyter-widgets/base",
      "model_module_version": "1.2.0",
      "model_name": "LayoutModel",
      "state": {}
     },
     "b46841a445b34b7da2eb542a2b20eaf9": {
      "model_module": "@jupyter-widgets/base",
      "model_module_version": "1.2.0",
      "model_name": "LayoutModel",
      "state": {}
     },
     "b564d2485982457a8baa0f89c1c28085": {
      "model_module": "@jupyter-widgets/controls",
      "model_module_version": "1.5.0",
      "model_name": "DescriptionStyleModel",
      "state": {
       "description_width": ""
      }
     },
     "bb123399fee24cd6857710068b6f4080": {
      "model_module": "@jupyter-widgets/controls",
      "model_module_version": "1.5.0",
      "model_name": "DescriptionStyleModel",
      "state": {
       "description_width": ""
      }
     },
     "bb837090c70b4b3eb7cbc03f4203a7d4": {
      "model_module": "@jupyter-widgets/base",
      "model_module_version": "1.2.0",
      "model_name": "LayoutModel",
      "state": {}
     },
     "c02cecc40f3a44078a29d7d7c24a72f6": {
      "model_module": "@jupyter-widgets/base",
      "model_module_version": "1.2.0",
      "model_name": "LayoutModel",
      "state": {}
     },
     "c10c6e72b9c64e94b9045445d9c4178f": {
      "model_module": "@jupyter-widgets/controls",
      "model_module_version": "1.5.0",
      "model_name": "HBoxModel",
      "state": {
       "children": [
        "IPY_MODEL_a557bc44cd3d40b1a39c090e878f34d3",
        "IPY_MODEL_506d3014e5b64f9aadd2898c7573bca2",
        "IPY_MODEL_63442601bcc1468eaf452b18de857450"
       ],
       "layout": "IPY_MODEL_bb837090c70b4b3eb7cbc03f4203a7d4"
      }
     },
     "d27e9fc4f36f491f9cef0171e86879e8": {
      "model_module": "@jupyter-widgets/controls",
      "model_module_version": "1.5.0",
      "model_name": "ToggleButtonModel",
      "state": {
       "description": "Show/hide",
       "layout": "IPY_MODEL_635dfed9f6ca4b74a1014b4dc73794cf",
       "style": "IPY_MODEL_3740c9203bee431d9e9029b94f47adb1"
      }
     },
     "d9adc13f48be4a3eb8f5eb6fc077e814": {
      "model_module": "@jupyter-widgets/controls",
      "model_module_version": "1.5.0",
      "model_name": "DescriptionStyleModel",
      "state": {
       "description_width": ""
      }
     },
     "e02c11c2b7ff4bdabca014f01b187831": {
      "model_module": "@jupyter-widgets/base",
      "model_module_version": "1.2.0",
      "model_name": "LayoutModel",
      "state": {}
     },
     "e06128ac46624ad9a5cc319eda753d0e": {
      "model_module": "@jupyter-widgets/controls",
      "model_module_version": "1.5.0",
      "model_name": "DescriptionStyleModel",
      "state": {
       "description_width": ""
      }
     },
     "e2dc730f03e8480aa2b845ec703121d6": {
      "model_module": "@jupyter-widgets/controls",
      "model_module_version": "1.5.0",
      "model_name": "DescriptionStyleModel",
      "state": {
       "description_width": ""
      }
     },
     "e2f71b8ef21c4756b7a2842aa075fff7": {
      "model_module": "@jupyter-widgets/controls",
      "model_module_version": "1.5.0",
      "model_name": "VBoxModel",
      "state": {
       "children": [
        "IPY_MODEL_07ddc3f06bf54adbbfa0bd52b7f505fe",
        "IPY_MODEL_74b3b70562864187b13efa1d8da9cee0"
       ],
       "layout": "IPY_MODEL_f6f7ee4a5393460a87e5edbb11af626e"
      }
     },
     "ea811c70aef34e548afa662241a6c32f": {
      "model_module": "@jupyter-widgets/controls",
      "model_module_version": "1.5.0",
      "model_name": "DescriptionStyleModel",
      "state": {
       "description_width": ""
      }
     },
     "eefd3f6c116947b3879e3e35bdd5e3c8": {
      "model_module": "@jupyter-widgets/controls",
      "model_module_version": "1.5.0",
      "model_name": "GridBoxModel",
      "state": {
       "box_style": "warning",
       "children": [
        "IPY_MODEL_79de08f6684a47999405223039f78cb3",
        "IPY_MODEL_610f0391113940e384ae7f725fd0dd0f"
       ],
       "layout": "IPY_MODEL_c02cecc40f3a44078a29d7d7c24a72f6"
      }
     },
     "f14814c630fb4bc3ab2fb769749d9602": {
      "model_module": "@jupyter-widgets/controls",
      "model_module_version": "1.5.0",
      "model_name": "DescriptionStyleModel",
      "state": {
       "description_width": ""
      }
     },
     "f5cdda2e6eea41d3a1a64a7088bbac08": {
      "model_module": "@jupyter-widgets/controls",
      "model_module_version": "1.5.0",
      "model_name": "GridBoxModel",
      "state": {
       "box_style": "warning",
       "children": [
        "IPY_MODEL_e2f71b8ef21c4756b7a2842aa075fff7",
        "IPY_MODEL_c10c6e72b9c64e94b9045445d9c4178f"
       ],
       "layout": "IPY_MODEL_658de461180b4a9d907077311383a6a6"
      }
     },
     "f6f7ee4a5393460a87e5edbb11af626e": {
      "model_module": "@jupyter-widgets/base",
      "model_module_version": "1.2.0",
      "model_name": "LayoutModel",
      "state": {}
     },
     "f97fd241d3eb47bcbf17115e050e5bdc": {
      "model_module": "@jupyter-widgets/base",
      "model_module_version": "1.2.0",
      "model_name": "LayoutModel",
      "state": {}
     },
     "f9d8327fa7034d268ce01af874d5c6b6": {
      "model_module": "@jupyter-widgets/output",
      "model_module_version": "1.0.0",
      "model_name": "OutputModel",
      "state": {
       "layout": "IPY_MODEL_9dc3b952e691428084a9714a1e4a3d6a",
       "outputs": [
        {
         "data": {
          "text/plain": "'Press \"Show/hide\" for display'"
         },
         "metadata": {},
         "output_type": "display_data"
        }
       ]
      }
     }
    },
    "version_major": 2,
    "version_minor": 0
   }
  }
 },
 "nbformat": 4,
 "nbformat_minor": 2
}
