{
 "cells": [
  {
   "cell_type": "markdown",
   "metadata": {},
   "outputs": [],
   "source": [
    "# Testing Notebook - jmi template\n"
   ]
  },
  {
   "cell_type": "code",
   "execution_count": 1,
   "metadata": {},
   "outputs": [
    {
     "name": "stdout",
     "output_type": "stream",
     "text": "fsds_1007219  v0.5.12 loaded.  Read the docs: https://fsds.readthedocs.io/en/latest/ \n"
    },
    {
     "data": {
      "text/html": "<style  type=\"text/css\" >\n</style><table id=\"T_e343a138_2408_11ea_845b_4865ee12e626\" ><caption>Loaded Packages and Handles</caption><thead>    <tr>        <th class=\"col_heading level0 col0\" >Handle</th>        <th class=\"col_heading level0 col1\" >Package</th>        <th class=\"col_heading level0 col2\" >Description</th>    </tr></thead><tbody>\n                <tr>\n                                <td id=\"T_e343a138_2408_11ea_845b_4865ee12e626row0_col0\" class=\"data row0 col0\" >dp</td>\n                        <td id=\"T_e343a138_2408_11ea_845b_4865ee12e626row0_col1\" class=\"data row0 col1\" >IPython.display</td>\n                        <td id=\"T_e343a138_2408_11ea_845b_4865ee12e626row0_col2\" class=\"data row0 col2\" >Display modules with helpful display and clearing commands.</td>\n            </tr>\n            <tr>\n                                <td id=\"T_e343a138_2408_11ea_845b_4865ee12e626row1_col0\" class=\"data row1 col0\" >fs</td>\n                        <td id=\"T_e343a138_2408_11ea_845b_4865ee12e626row1_col1\" class=\"data row1 col1\" >fsds_100719</td>\n                        <td id=\"T_e343a138_2408_11ea_845b_4865ee12e626row1_col2\" class=\"data row1 col2\" >Custom data science bootcamp student package</td>\n            </tr>\n            <tr>\n                                <td id=\"T_e343a138_2408_11ea_845b_4865ee12e626row2_col0\" class=\"data row2 col0\" >mpl</td>\n                        <td id=\"T_e343a138_2408_11ea_845b_4865ee12e626row2_col1\" class=\"data row2 col1\" >matplotlib</td>\n                        <td id=\"T_e343a138_2408_11ea_845b_4865ee12e626row2_col2\" class=\"data row2 col2\" >Matplotlib's base OOP module with formatting artists</td>\n            </tr>\n            <tr>\n                                <td id=\"T_e343a138_2408_11ea_845b_4865ee12e626row3_col0\" class=\"data row3 col0\" >plt</td>\n                        <td id=\"T_e343a138_2408_11ea_845b_4865ee12e626row3_col1\" class=\"data row3 col1\" >matplotlib.pyplot</td>\n                        <td id=\"T_e343a138_2408_11ea_845b_4865ee12e626row3_col2\" class=\"data row3 col2\" >Matplotlib's matlab-like plotting module</td>\n            </tr>\n            <tr>\n                                <td id=\"T_e343a138_2408_11ea_845b_4865ee12e626row4_col0\" class=\"data row4 col0\" >np</td>\n                        <td id=\"T_e343a138_2408_11ea_845b_4865ee12e626row4_col1\" class=\"data row4 col1\" >numpy</td>\n                        <td id=\"T_e343a138_2408_11ea_845b_4865ee12e626row4_col2\" class=\"data row4 col2\" >scientific computing with Python</td>\n            </tr>\n            <tr>\n                                <td id=\"T_e343a138_2408_11ea_845b_4865ee12e626row5_col0\" class=\"data row5 col0\" >pd</td>\n                        <td id=\"T_e343a138_2408_11ea_845b_4865ee12e626row5_col1\" class=\"data row5 col1\" >pandas</td>\n                        <td id=\"T_e343a138_2408_11ea_845b_4865ee12e626row5_col2\" class=\"data row5 col2\" >High performance data structures and tools</td>\n            </tr>\n            <tr>\n                                <td id=\"T_e343a138_2408_11ea_845b_4865ee12e626row6_col0\" class=\"data row6 col0\" >sns</td>\n                        <td id=\"T_e343a138_2408_11ea_845b_4865ee12e626row6_col1\" class=\"data row6 col1\" >seaborn</td>\n                        <td id=\"T_e343a138_2408_11ea_845b_4865ee12e626row6_col2\" class=\"data row6 col2\" >High-level data visualization library based on matplotlib</td>\n            </tr>\n    </tbody></table>",
      "text/plain": "<pandas.io.formats.style.Styler at 0x123b0e5f8>"
     },
     "metadata": {},
     "output_type": "display_data"
    }
   ],
   "source": [
    "# !pip install -U fsds_100719\n",
    "from fsds_100719.imports import *"
   ]
  },
  {
   "cell_type": "code",
   "execution_count": 2,
   "metadata": {},
   "outputs": [
    {
     "name": "stdout",
     "output_type": "stream",
     "text": "AUTHORS.rst           README.md             requirements_dev.txt\nCONTRIBUTING.rst      README.rst            setup.cfg\nHISTORY.rst           \u001b[34mdocs\u001b[m\u001b[m/                 setup.py\nLICENSE               error.html            testing.ipynb\nMANIFEST.in           \u001b[34mfsds_100719\u001b[m\u001b[m/          \u001b[34mtests\u001b[m\u001b[m/\nMakefile              requirements.txt      tox.ini\n"
    }
   ],
   "source": [
    "\n",
    "ls"
   ]
  },
  {
   "cell_type": "code",
   "execution_count": 6,
   "metadata": {},
   "outputs": [
    {
     "name": "stdout",
     "output_type": "stream",
     "text": "Help on module fsds_100719.jmi.jmi_WIP in fsds_100719.jmi:\n\nNAME\n    fsds_100719.jmi.jmi_WIP - A collection of functions not yet-ready for the jmi modules\n\nFUNCTIONS\n    test()\n\nFILE\n    /Users/jamesirving/Documents/GitHub/_STUDY GROUP PREP/fsds_100719/fsds_100719/jmi/jmi_WIP.py\n\n\n"
    }
   ],
   "source": [
    "# from fsds_100719.ds import ihelp, reload\n",
    "from fsds_100719 import ihelp, reload\n",
    "## Instead of jirving, use your .py file name\n",
    "# import jmi_WIP as ji\n",
    "import fsds_100719.jmi.jmi_WIP as ji\n",
    "help(ji)"
   ]
  },
  {
   "cell_type": "code",
   "execution_count": 7,
   "metadata": {},
   "outputs": [
    {
     "data": {
      "text/html": "<div>\n<style scoped>\n    .dataframe tbody tr th:only-of-type {\n        vertical-align: middle;\n    }\n\n    .dataframe tbody tr th {\n        vertical-align: top;\n    }\n\n    .dataframe thead th {\n        text-align: right;\n    }\n</style>\n<table border=\"1\" class=\"dataframe\">\n  <thead>\n    <tr style=\"text-align: right;\">\n      <th></th>\n      <th>id</th>\n      <th>date</th>\n      <th>price</th>\n      <th>bedrooms</th>\n      <th>bathrooms</th>\n      <th>sqft_living</th>\n      <th>sqft_lot</th>\n      <th>floors</th>\n      <th>waterfront</th>\n      <th>view</th>\n      <th>...</th>\n      <th>grade</th>\n      <th>sqft_above</th>\n      <th>sqft_basement</th>\n      <th>yr_built</th>\n      <th>yr_renovated</th>\n      <th>zipcode</th>\n      <th>lat</th>\n      <th>long</th>\n      <th>sqft_living15</th>\n      <th>sqft_lot15</th>\n    </tr>\n  </thead>\n  <tbody>\n    <tr>\n      <td>0</td>\n      <td>7129300520</td>\n      <td>10/13/2014</td>\n      <td>221900.0</td>\n      <td>3</td>\n      <td>1.00</td>\n      <td>1180</td>\n      <td>5650</td>\n      <td>1.0</td>\n      <td>NaN</td>\n      <td>0.0</td>\n      <td>...</td>\n      <td>7</td>\n      <td>1180</td>\n      <td>0.0</td>\n      <td>1955</td>\n      <td>0.0</td>\n      <td>98178</td>\n      <td>47.5112</td>\n      <td>-122.257</td>\n      <td>1340</td>\n      <td>5650</td>\n    </tr>\n    <tr>\n      <td>1</td>\n      <td>6414100192</td>\n      <td>12/9/2014</td>\n      <td>538000.0</td>\n      <td>3</td>\n      <td>2.25</td>\n      <td>2570</td>\n      <td>7242</td>\n      <td>2.0</td>\n      <td>0.0</td>\n      <td>0.0</td>\n      <td>...</td>\n      <td>7</td>\n      <td>2170</td>\n      <td>400.0</td>\n      <td>1951</td>\n      <td>1991.0</td>\n      <td>98125</td>\n      <td>47.7210</td>\n      <td>-122.319</td>\n      <td>1690</td>\n      <td>7639</td>\n    </tr>\n    <tr>\n      <td>2</td>\n      <td>5631500400</td>\n      <td>2/25/2015</td>\n      <td>180000.0</td>\n      <td>2</td>\n      <td>1.00</td>\n      <td>770</td>\n      <td>10000</td>\n      <td>1.0</td>\n      <td>0.0</td>\n      <td>0.0</td>\n      <td>...</td>\n      <td>6</td>\n      <td>770</td>\n      <td>0.0</td>\n      <td>1933</td>\n      <td>NaN</td>\n      <td>98028</td>\n      <td>47.7379</td>\n      <td>-122.233</td>\n      <td>2720</td>\n      <td>8062</td>\n    </tr>\n    <tr>\n      <td>3</td>\n      <td>2487200875</td>\n      <td>12/9/2014</td>\n      <td>604000.0</td>\n      <td>4</td>\n      <td>3.00</td>\n      <td>1960</td>\n      <td>5000</td>\n      <td>1.0</td>\n      <td>0.0</td>\n      <td>0.0</td>\n      <td>...</td>\n      <td>7</td>\n      <td>1050</td>\n      <td>910.0</td>\n      <td>1965</td>\n      <td>0.0</td>\n      <td>98136</td>\n      <td>47.5208</td>\n      <td>-122.393</td>\n      <td>1360</td>\n      <td>5000</td>\n    </tr>\n    <tr>\n      <td>4</td>\n      <td>1954400510</td>\n      <td>2/18/2015</td>\n      <td>510000.0</td>\n      <td>3</td>\n      <td>2.00</td>\n      <td>1680</td>\n      <td>8080</td>\n      <td>1.0</td>\n      <td>0.0</td>\n      <td>0.0</td>\n      <td>...</td>\n      <td>8</td>\n      <td>1680</td>\n      <td>0.0</td>\n      <td>1987</td>\n      <td>0.0</td>\n      <td>98074</td>\n      <td>47.6168</td>\n      <td>-122.045</td>\n      <td>1800</td>\n      <td>7503</td>\n    </tr>\n  </tbody>\n</table>\n<p>5 rows × 21 columns</p>\n</div>",
      "text/plain": "           id        date     price  bedrooms  bathrooms  sqft_living  \\\n0  7129300520  10/13/2014  221900.0         3       1.00         1180   \n1  6414100192   12/9/2014  538000.0         3       2.25         2570   \n2  5631500400   2/25/2015  180000.0         2       1.00          770   \n3  2487200875   12/9/2014  604000.0         4       3.00         1960   \n4  1954400510   2/18/2015  510000.0         3       2.00         1680   \n\n   sqft_lot  floors  waterfront  view  ...  grade  sqft_above  sqft_basement  \\\n0      5650     1.0         NaN   0.0  ...      7        1180            0.0   \n1      7242     2.0         0.0   0.0  ...      7        2170          400.0   \n2     10000     1.0         0.0   0.0  ...      6         770            0.0   \n3      5000     1.0         0.0   0.0  ...      7        1050          910.0   \n4      8080     1.0         0.0   0.0  ...      8        1680            0.0   \n\n  yr_built  yr_renovated  zipcode      lat     long  sqft_living15  sqft_lot15  \n0     1955           0.0    98178  47.5112 -122.257           1340        5650  \n1     1951        1991.0    98125  47.7210 -122.319           1690        7639  \n2     1933           NaN    98028  47.7379 -122.233           2720        8062  \n3     1965           0.0    98136  47.5208 -122.393           1360        5000  \n4     1987           0.0    98074  47.6168 -122.045           1800        7503  \n\n[5 rows x 21 columns]"
     },
     "execution_count": 7,
     "metadata": {},
     "output_type": "execute_result"
    }
   ],
   "source": [
    "df = fs.datasets.load_mod1_proj()\n",
    "df.head()"
   ]
  },
  {
   "cell_type": "code",
   "execution_count": 11,
   "metadata": {},
   "outputs": [
    {
     "name": "stdout",
     "output_type": "stream",
     "text": "Reloading...\n\n"
    },
    {
     "data": {
      "text/plain": "<module 'fsds_100719.jmi.jmi_WIP' from '/Users/jamesirving/Documents/GitHub/_STUDY GROUP PREP/fsds_100719/fsds_100719/jmi/jmi_WIP.py'>"
     },
     "execution_count": 11,
     "metadata": {},
     "output_type": "execute_result"
    }
   ],
   "source": [
    "reload(ji)"
   ]
  },
  {
   "cell_type": "code",
   "execution_count": 12,
   "metadata": {},
   "outputs": [
    {
     "name": "stdout",
     "output_type": "stream",
     "text": "Current L: [['day1', 'day2', [3, 5, 6, [5, 6, 7]]], 'sevem', ['a', 'b']]\nCurrent L: ['day1', 'day2', [3, 5, 6, [5, 6, 7]]]\nCurrent L: [3, 5, 6, [5, 6, 7]]\nCurrent L: [5, 6, 7]\nCurrent L: ['a', 'b']\n"
    },
    {
     "data": {
      "text/plain": "['day1', 'day2', 3, 5, 6, 5, 6, 7, 'sevem', 'a', 'b']"
     },
     "execution_count": 12,
     "metadata": {},
     "output_type": "execute_result"
    }
   ],
   "source": [
    "list= [['day1','day2',[3,5,6,[5,6,7]]],'sevem',['a','b']]\n",
    "ji.flat_list(list)"
   ]
  },
  {
   "cell_type": "code",
   "execution_count": 10,
   "metadata": {},
   "outputs": [],
   "source": [
    "\n",
    "def flat_dict(D, result=None, print_results=True):\n",
    "    \"\"\"\n",
    "    Function from Recursive Functions Section of Learn.co v2\n",
    "    \n",
    "    Args:\n",
    "        D (dict or scalar): The item/list to be tested and unpacked.\n",
    "        result (dict, optional): The list to add the contents of L to. Defaults to an empty list.\n",
    "        print_results (bool, optional): Controls displaying of output. Defaults to True.\n",
    "    \n",
    "    Returns:\n",
    "        result : flattened list L \n",
    "    \"\"\"\n",
    "    \n",
    "    if result is None:\n",
    "        result = []\n",
    "    if print_results:\n",
    "        print('Current D:', D) #Optional, to display process\n",
    "    for i in D:\n",
    "        if type(i) == list:\n",
    "            flat_dict(i, result)\n",
    "        else:\n",
    "            result.append(i)\n",
    "    return result\n",
    "\n",
    "\n"
   ]
  },
  {
   "cell_type": "code",
   "execution_count": 15,
   "metadata": {},
   "outputs": [
    {
     "data": {
      "text/html": "<div>\n<style scoped>\n    .dataframe tbody tr th:only-of-type {\n        vertical-align: middle;\n    }\n\n    .dataframe tbody tr th {\n        vertical-align: top;\n    }\n\n    .dataframe thead th {\n        text-align: right;\n    }\n</style>\n<table border=\"1\" class=\"dataframe\">\n  <thead>\n    <tr style=\"text-align: right;\">\n      <th></th>\n      <th>Code</th>\n      <th>Label</th>\n      <th>1989</th>\n      <th>1990</th>\n      <th>1991</th>\n      <th>1993</th>\n      <th>1994</th>\n      <th>1996</th>\n      <th>1998</th>\n      <th>2000</th>\n      <th>2002</th>\n      <th>2004</th>\n      <th>2006</th>\n      <th>2008</th>\n      <th>2010</th>\n      <th>2012</th>\n      <th>2014</th>\n      <th>2016</th>\n      <th>2018</th>\n    </tr>\n  </thead>\n  <tbody>\n    <tr>\n      <td>0</td>\n      <td>0</td>\n      <td>Not at all</td>\n      <td>298</td>\n      <td>110</td>\n      <td>292</td>\n      <td>309</td>\n      <td>563</td>\n      <td>476</td>\n      <td>516</td>\n      <td>509</td>\n      <td>484</td>\n      <td>445</td>\n      <td>595</td>\n      <td>416</td>\n      <td>440</td>\n      <td>35</td>\n      <td>571</td>\n      <td>439</td>\n      <td>365</td>\n    </tr>\n    <tr>\n      <td>1</td>\n      <td>1</td>\n      <td>Once or twice</td>\n      <td>99</td>\n      <td>39</td>\n      <td>99</td>\n      <td>92</td>\n      <td>188</td>\n      <td>192</td>\n      <td>175</td>\n      <td>202</td>\n      <td>186</td>\n      <td>160</td>\n      <td>205</td>\n      <td>149</td>\n      <td>174</td>\n      <td>127</td>\n      <td>220</td>\n      <td>178</td>\n      <td>127</td>\n    </tr>\n    <tr>\n      <td>2</td>\n      <td>2</td>\n      <td>Once a month</td>\n      <td>114</td>\n      <td>57</td>\n      <td>108</td>\n      <td>164</td>\n      <td>290</td>\n      <td>248</td>\n      <td>263</td>\n      <td>204</td>\n      <td>212</td>\n      <td>240</td>\n      <td>265</td>\n      <td>176</td>\n      <td>194</td>\n      <td>169</td>\n      <td>255</td>\n      <td>216</td>\n      <td>162</td>\n    </tr>\n    <tr>\n      <td>3</td>\n      <td>3</td>\n      <td>2-3 times a month</td>\n      <td>221</td>\n      <td>91</td>\n      <td>181</td>\n      <td>221</td>\n      <td>416</td>\n      <td>412</td>\n      <td>358</td>\n      <td>360</td>\n      <td>350</td>\n      <td>364</td>\n      <td>361</td>\n      <td>243</td>\n      <td>284</td>\n      <td>255</td>\n      <td>357</td>\n      <td>274</td>\n      <td>208</td>\n    </tr>\n    <tr>\n      <td>4</td>\n      <td>4</td>\n      <td>Weekly</td>\n      <td>258</td>\n      <td>110</td>\n      <td>233</td>\n      <td>272</td>\n      <td>483</td>\n      <td>471</td>\n      <td>425</td>\n      <td>391</td>\n      <td>341</td>\n      <td>376</td>\n      <td>343</td>\n      <td>285</td>\n      <td>257</td>\n      <td>215</td>\n      <td>333</td>\n      <td>244</td>\n      <td>214</td>\n    </tr>\n    <tr>\n      <td>5</td>\n      <td>5</td>\n      <td>2-3 per week</td>\n      <td>307</td>\n      <td>108</td>\n      <td>265</td>\n      <td>273</td>\n      <td>538</td>\n      <td>565</td>\n      <td>458</td>\n      <td>446</td>\n      <td>415</td>\n      <td>377</td>\n      <td>430</td>\n      <td>309</td>\n      <td>304</td>\n      <td>283</td>\n      <td>365</td>\n      <td>271</td>\n      <td>197</td>\n    </tr>\n    <tr>\n      <td>6</td>\n      <td>6</td>\n      <td>4+ per week</td>\n      <td>64</td>\n      <td>37</td>\n      <td>72</td>\n      <td>97</td>\n      <td>155</td>\n      <td>164</td>\n      <td>125</td>\n      <td>152</td>\n      <td>163</td>\n      <td>147</td>\n      <td>134</td>\n      <td>108</td>\n      <td>99</td>\n      <td>112</td>\n      <td>122</td>\n      <td>90</td>\n      <td>84</td>\n    </tr>\n    <tr>\n      <td>7</td>\n      <td>-1</td>\n      <td>Not applicable</td>\n      <td>136</td>\n      <td>199</td>\n      <td>221</td>\n      <td>114</td>\n      <td>201</td>\n      <td>258</td>\n      <td>383</td>\n      <td>417</td>\n      <td>489</td>\n      <td>584</td>\n      <td>2096</td>\n      <td>240</td>\n      <td>202</td>\n      <td>643</td>\n      <td>188</td>\n      <td>1096</td>\n      <td>942</td>\n    </tr>\n    <tr>\n      <td>8</td>\n      <td>8</td>\n      <td>Don't know</td>\n      <td>0</td>\n      <td>0</td>\n      <td>2</td>\n      <td>0</td>\n      <td>3</td>\n      <td>2</td>\n      <td>2</td>\n      <td>1</td>\n      <td>18</td>\n      <td>20</td>\n      <td>6</td>\n      <td>26</td>\n      <td>15</td>\n      <td>26</td>\n      <td>19</td>\n      <td>6</td>\n      <td>6</td>\n    </tr>\n    <tr>\n      <td>9</td>\n      <td>9</td>\n      <td>No answer</td>\n      <td>40</td>\n      <td>621</td>\n      <td>44</td>\n      <td>64</td>\n      <td>155</td>\n      <td>116</td>\n      <td>127</td>\n      <td>135</td>\n      <td>107</td>\n      <td>99</td>\n      <td>75</td>\n      <td>71</td>\n      <td>75</td>\n      <td>109</td>\n      <td>108</td>\n      <td>53</td>\n      <td>43</td>\n    </tr>\n  </tbody>\n</table>\n</div>",
      "text/plain": "   Code              Label  1989  1990  1991  1993  1994  1996  1998  2000  \\\n0     0         Not at all   298   110   292   309   563   476   516   509   \n1     1      Once or twice    99    39    99    92   188   192   175   202   \n2     2       Once a month   114    57   108   164   290   248   263   204   \n3     3  2-3 times a month   221    91   181   221   416   412   358   360   \n4     4             Weekly   258   110   233   272   483   471   425   391   \n5     5       2-3 per week   307   108   265   273   538   565   458   446   \n6     6        4+ per week    64    37    72    97   155   164   125   152   \n7    -1     Not applicable   136   199   221   114   201   258   383   417   \n8     8         Don't know     0     0     2     0     3     2     2     1   \n9     9          No answer    40   621    44    64   155   116   127   135   \n\n   2002  2004  2006  2008  2010  2012  2014  2016  2018  \n0   484   445   595   416   440    35   571   439   365  \n1   186   160   205   149   174   127   220   178   127  \n2   212   240   265   176   194   169   255   216   162  \n3   350   364   361   243   284   255   357   274   208  \n4   341   376   343   285   257   215   333   244   214  \n5   415   377   430   309   304   283   365   271   197  \n6   163   147   134   108    99   112   122    90    84  \n7   489   584  2096   240   202   643   188  1096   942  \n8    18    20     6    26    15    26    19     6     6  \n9   107    99    75    71    75   109   108    53    43  "
     },
     "execution_count": 15,
     "metadata": {},
     "output_type": "execute_result"
    }
   ],
   "source": [
    "pd.read_excel('https://raw.githubusercontent.com/jirvingphd/fsds_100719/master/fsds_100719/data/Americans%20Sex%20Frequency.xlsx')"
   ]
  },
  {
   "cell_type": "code",
   "execution_count": null,
   "metadata": {},
   "outputs": [],
   "source": []
  }
 ],
 "metadata": {
  "file_extension": ".py",
  "kernelspec": {
   "display_name": "Python [conda env:learn-env] *",
   "language": "python",
   "name": "conda-env-learn-env-py"
  },
  "language_info": {
   "codemirror_mode": {
    "name": "ipython",
    "version": 3
   },
   "file_extension": ".py",
   "mimetype": "text/x-python",
   "name": "python",
   "nbconvert_exporter": "python",
   "pygments_lexer": "ipython3",
   "version": "3.6.9"
  },
  "mimetype": "text/x-python",
  "name": "python",
  "npconvert_exporter": "python",
  "pygments_lexer": "ipython3",
  "toc": {
   "base_numbering": 1,
   "nav_menu": {},
   "number_sections": false,
   "sideBar": true,
   "skip_h1_title": false,
   "title_cell": "Table of Contents",
   "title_sidebar": "Contents",
   "toc_cell": false,
   "toc_position": {},
   "toc_section_display": true,
   "toc_window_display": true
  },
  "varInspector": {
   "cols": {
    "lenName": 16,
    "lenType": 16,
    "lenVar": 40
   },
   "kernels_config": {
    "python": {
     "delete_cmd_postfix": "",
     "delete_cmd_prefix": "del ",
     "library": "var_list.py",
     "varRefreshCmd": "print(var_dic_list())"
    },
    "r": {
     "delete_cmd_postfix": ") ",
     "delete_cmd_prefix": "rm(",
     "library": "var_list.r",
     "varRefreshCmd": "cat(var_dic_list()) "
    }
   },
   "types_to_exclude": [
    "module",
    "function",
    "builtin_function_or_method",
    "instance",
    "_Feature"
   ],
   "window_display": false
  },
  "version": 3,
  "widgets": {
   "application/vnd.jupyter.widget-state+json": {
    "state": {
     "050090afb4a046669e1d07d6b8a7ffa6": {
      "model_module": "@jupyter-widgets/controls",
      "model_module_version": "1.5.0",
      "model_name": "LabelModel",
      "state": {
       "layout": "IPY_MODEL_9569a0bc2cdc4bdfbcb2a1b4143bc1bd",
       "style": "IPY_MODEL_3aaa5a712b41419fbb9b7214ee406655",
       "value": "iHelp Menu: View Help and/or Source Code"
      }
     },
     "057a8726c21e42d998e06a77f2a7f9af": {
      "model_module": "@jupyter-widgets/base",
      "model_module_version": "1.2.0",
      "model_name": "LayoutModel",
      "state": {}
     },
     "07ddc3f06bf54adbbfa0bd52b7f505fe": {
      "model_module": "@jupyter-widgets/controls",
      "model_module_version": "1.5.0",
      "model_name": "LabelModel",
      "state": {
       "layout": "IPY_MODEL_e02c11c2b7ff4bdabca014f01b187831",
       "style": "IPY_MODEL_e2dc730f03e8480aa2b845ec703121d6",
       "value": "iHelp Menu: View Help and/or Source Code"
      }
     },
     "0c4612348f6b437ebf80698b31f69407": {
      "model_module": "@jupyter-widgets/controls",
      "model_module_version": "1.5.0",
      "model_name": "DescriptionStyleModel",
      "state": {
       "description_width": ""
      }
     },
     "0f226b03466f4448aa281a4547661f10": {
      "model_module": "@jupyter-widgets/base",
      "model_module_version": "1.2.0",
      "model_name": "LayoutModel",
      "state": {}
     },
     "101c2854bb864d02bbfab805754529a5": {
      "model_module": "@jupyter-widgets/controls",
      "model_module_version": "1.5.0",
      "model_name": "VBoxModel",
      "state": {
       "children": [
        "IPY_MODEL_61eaf482566a49849312c19a527bf090",
        "IPY_MODEL_f8df1d41f6894cb3a17c7e7410b397d6"
       ],
       "layout": "IPY_MODEL_17390b952a8345b788a63e39d5c90b83"
      }
     },
     "17390b952a8345b788a63e39d5c90b83": {
      "model_module": "@jupyter-widgets/base",
      "model_module_version": "1.2.0",
      "model_name": "LayoutModel",
      "state": {}
     },
     "1906d60dcaaf440e94dba0fb2c26ad48": {
      "model_module": "@jupyter-widgets/controls",
      "model_module_version": "1.5.0",
      "model_name": "DescriptionStyleModel",
      "state": {
       "description_width": ""
      }
     },
     "19f65f81eda645f18a9dc4c7945a25ae": {
      "model_module": "@jupyter-widgets/base",
      "model_module_version": "1.2.0",
      "model_name": "LayoutModel",
      "state": {}
     },
     "2bd2ba233a4d455bbc14dbfaad335e60": {
      "model_module": "@jupyter-widgets/base",
      "model_module_version": "1.2.0",
      "model_name": "LayoutModel",
      "state": {}
     },
     "366e668ca78b4b3c86e6410179d354d4": {
      "model_module": "@jupyter-widgets/controls",
      "model_module_version": "1.5.0",
      "model_name": "DescriptionStyleModel",
      "state": {
       "description_width": ""
      }
     },
     "3740c9203bee431d9e9029b94f47adb1": {
      "model_module": "@jupyter-widgets/controls",
      "model_module_version": "1.5.0",
      "model_name": "DescriptionStyleModel",
      "state": {
       "description_width": ""
      }
     },
     "388a5b775fc2457fb01016413d80f63c": {
      "model_module": "@jupyter-widgets/controls",
      "model_module_version": "1.5.0",
      "model_name": "DescriptionStyleModel",
      "state": {
       "description_width": ""
      }
     },
     "3aaa5a712b41419fbb9b7214ee406655": {
      "model_module": "@jupyter-widgets/controls",
      "model_module_version": "1.5.0",
      "model_name": "DescriptionStyleModel",
      "state": {
       "description_width": ""
      }
     },
     "3cc919508beb4a9da126a60dc07b2300": {
      "model_module": "@jupyter-widgets/base",
      "model_module_version": "1.2.0",
      "model_name": "LayoutModel",
      "state": {}
     },
     "3f3392c48c95437e97d0bef391873d33": {
      "model_module": "@jupyter-widgets/base",
      "model_module_version": "1.2.0",
      "model_name": "LayoutModel",
      "state": {}
     },
     "3f7f5ddb2f874c65a96eb3f741faead2": {
      "model_module": "@jupyter-widgets/base",
      "model_module_version": "1.2.0",
      "model_name": "LayoutModel",
      "state": {}
     },
     "3faeea484a5944e4bb7ef3505a5ad597": {
      "model_module": "@jupyter-widgets/controls",
      "model_module_version": "1.5.0",
      "model_name": "DescriptionStyleModel",
      "state": {
       "description_width": ""
      }
     },
     "41af368278804fa8ab347ed7f3d9396b": {
      "model_module": "@jupyter-widgets/output",
      "model_module_version": "1.0.0",
      "model_name": "OutputModel",
      "state": {
       "layout": "IPY_MODEL_6e2f6f3b967948b6a79e7a21c562193d",
       "outputs": [
        {
         "data": {
          "text/plain": "'Press \"Show/hide\" for display'"
         },
         "metadata": {},
         "output_type": "display_data"
        }
       ]
      }
     },
     "42af5dc84eea4673b3310697eb30a9a9": {
      "model_module": "@jupyter-widgets/controls",
      "model_module_version": "1.5.0",
      "model_name": "DescriptionStyleModel",
      "state": {
       "description_width": ""
      }
     },
     "48ef6ac5465848bd853008853cd1a98c": {
      "model_module": "@jupyter-widgets/base",
      "model_module_version": "1.2.0",
      "model_name": "LayoutModel",
      "state": {}
     },
     "4a4a0cc2d688448a97a7a94f934937f0": {
      "model_module": "@jupyter-widgets/controls",
      "model_module_version": "1.5.0",
      "model_name": "DescriptionStyleModel",
      "state": {
       "description_width": ""
      }
     },
     "4b255917ffa24263a84ed544acf03e24": {
      "model_module": "@jupyter-widgets/base",
      "model_module_version": "1.2.0",
      "model_name": "LayoutModel",
      "state": {}
     },
     "4b89f1f5e2534cbfa74945e24a5761ea": {
      "model_module": "@jupyter-widgets/controls",
      "model_module_version": "1.5.0",
      "model_name": "DropdownModel",
      "state": {
       "_options_labels": [
        "check_column"
       ],
       "index": 0,
       "layout": "IPY_MODEL_057a8726c21e42d998e06a77f2a7f9af",
       "style": "IPY_MODEL_388a5b775fc2457fb01016413d80f63c"
      }
     },
     "506d3014e5b64f9aadd2898c7573bca2": {
      "model_module": "@jupyter-widgets/controls",
      "model_module_version": "1.5.0",
      "model_name": "CheckboxModel",
      "state": {
       "description": "Show source code",
       "disabled": false,
       "layout": "IPY_MODEL_9c3f97b8b1494f85917432e094b0496e",
       "style": "IPY_MODEL_9770d82154d7469daf679475aec1b98e",
       "value": true
      }
     },
     "52c6cfbfa931436987516bf7bd8ce3bd": {
      "model_module": "@jupyter-widgets/base",
      "model_module_version": "1.2.0",
      "model_name": "LayoutModel",
      "state": {}
     },
     "5d7df3dd91af4cae889390571bd26d88": {
      "model_module": "@jupyter-widgets/base",
      "model_module_version": "1.2.0",
      "model_name": "LayoutModel",
      "state": {}
     },
     "5e0f7f4594dc47318eda2b1d658e87f2": {
      "model_module": "@jupyter-widgets/controls",
      "model_module_version": "1.5.0",
      "model_name": "CheckboxModel",
      "state": {
       "description": "Show source filepath",
       "disabled": false,
       "layout": "IPY_MODEL_52c6cfbfa931436987516bf7bd8ce3bd",
       "style": "IPY_MODEL_f14814c630fb4bc3ab2fb769749d9602",
       "value": false
      }
     },
     "610f0391113940e384ae7f725fd0dd0f": {
      "model_module": "@jupyter-widgets/controls",
      "model_module_version": "1.5.0",
      "model_name": "HBoxModel",
      "state": {
       "children": [
        "IPY_MODEL_83c19841f8b1415f9bf3fded249cb198",
        "IPY_MODEL_7cfa37a29cab41f9816d8fb4d8fcd7ef",
        "IPY_MODEL_5e0f7f4594dc47318eda2b1d658e87f2"
       ],
       "layout": "IPY_MODEL_5d7df3dd91af4cae889390571bd26d88"
      }
     },
     "61eaf482566a49849312c19a527bf090": {
      "model_module": "@jupyter-widgets/controls",
      "model_module_version": "1.5.0",
      "model_name": "LabelModel",
      "state": {
       "layout": "IPY_MODEL_2bd2ba233a4d455bbc14dbfaad335e60",
       "style": "IPY_MODEL_3faeea484a5944e4bb7ef3505a5ad597",
       "value": "iHelp Menu: View Help and/or Source Code"
      }
     },
     "63442601bcc1468eaf452b18de857450": {
      "model_module": "@jupyter-widgets/controls",
      "model_module_version": "1.5.0",
      "model_name": "CheckboxModel",
      "state": {
       "description": "Show source filepath",
       "disabled": false,
       "layout": "IPY_MODEL_19f65f81eda645f18a9dc4c7945a25ae",
       "style": "IPY_MODEL_42af5dc84eea4673b3310697eb30a9a9",
       "value": false
      }
     },
     "635dfed9f6ca4b74a1014b4dc73794cf": {
      "model_module": "@jupyter-widgets/base",
      "model_module_version": "1.2.0",
      "model_name": "LayoutModel",
      "state": {}
     },
     "6367af69289147e7aa892860c56bc265": {
      "model_module": "@jupyter-widgets/controls",
      "model_module_version": "1.5.0",
      "model_name": "LabelModel",
      "state": {
       "layout": "IPY_MODEL_b46841a445b34b7da2eb542a2b20eaf9",
       "style": "IPY_MODEL_e06128ac46624ad9a5cc319eda753d0e",
       "value": "Function Menu"
      }
     },
     "658de461180b4a9d907077311383a6a6": {
      "model_module": "@jupyter-widgets/base",
      "model_module_version": "1.2.0",
      "model_name": "LayoutModel",
      "state": {}
     },
     "687af261c6df46fc9bf75f8077e72650": {
      "model_module": "@jupyter-widgets/controls",
      "model_module_version": "1.5.0",
      "model_name": "GridBoxModel",
      "state": {
       "box_style": "warning",
       "children": [
        "IPY_MODEL_101c2854bb864d02bbfab805754529a5",
        "IPY_MODEL_7022b91cb79a423ca064e4719631c9f6"
       ],
       "layout": "IPY_MODEL_8275b6bf04794e638f82452a84d2078c"
      }
     },
     "6e2f6f3b967948b6a79e7a21c562193d": {
      "model_module": "@jupyter-widgets/base",
      "model_module_version": "1.2.0",
      "model_name": "LayoutModel",
      "state": {}
     },
     "6f07bb450bb34e41a2bc22a676ffce02": {
      "model_module": "@jupyter-widgets/base",
      "model_module_version": "1.2.0",
      "model_name": "LayoutModel",
      "state": {}
     },
     "7022b91cb79a423ca064e4719631c9f6": {
      "model_module": "@jupyter-widgets/controls",
      "model_module_version": "1.5.0",
      "model_name": "HBoxModel",
      "state": {
       "children": [
        "IPY_MODEL_7fa932c516544fc9838d21cb97ccbab2",
        "IPY_MODEL_eba4e6d12ccf485385162ca64ed81e44",
        "IPY_MODEL_80c1b11230d742229d125a8b157cf152"
       ],
       "layout": "IPY_MODEL_ec168acb3b8d4c5eacb7b50c9f8bef5d"
      }
     },
     "74b3b70562864187b13efa1d8da9cee0": {
      "model_module": "@jupyter-widgets/controls",
      "model_module_version": "1.5.0",
      "model_name": "HBoxModel",
      "state": {
       "children": [
        "IPY_MODEL_a84e3aa3b9674c1a8679effe4d0687c1",
        "IPY_MODEL_a508d64c72124f13b4fca15294243829",
        "IPY_MODEL_d27e9fc4f36f491f9cef0171e86879e8"
       ],
       "layout": "IPY_MODEL_3f7f5ddb2f874c65a96eb3f741faead2"
      }
     },
     "79de08f6684a47999405223039f78cb3": {
      "model_module": "@jupyter-widgets/controls",
      "model_module_version": "1.5.0",
      "model_name": "VBoxModel",
      "state": {
       "children": [
        "IPY_MODEL_050090afb4a046669e1d07d6b8a7ffa6",
        "IPY_MODEL_9f674afb090f47bfa3d8e6c487814fdb"
       ],
       "layout": "IPY_MODEL_48ef6ac5465848bd853008853cd1a98c"
      }
     },
     "7cfa37a29cab41f9816d8fb4d8fcd7ef": {
      "model_module": "@jupyter-widgets/controls",
      "model_module_version": "1.5.0",
      "model_name": "CheckboxModel",
      "state": {
       "description": "Show source code",
       "disabled": false,
       "layout": "IPY_MODEL_f97fd241d3eb47bcbf17115e050e5bdc",
       "style": "IPY_MODEL_d9adc13f48be4a3eb8f5eb6fc077e814",
       "value": true
      }
     },
     "7fa932c516544fc9838d21cb97ccbab2": {
      "model_module": "@jupyter-widgets/controls",
      "model_module_version": "1.5.0",
      "model_name": "CheckboxModel",
      "state": {
       "description": "Show 'help(func)'",
       "disabled": false,
       "layout": "IPY_MODEL_b6bc97f6e0f341e0986688c6a6fafec8",
       "style": "IPY_MODEL_ced42461ec6347c880e7c35bf9494359",
       "value": true
      }
     },
     "80c1b11230d742229d125a8b157cf152": {
      "model_module": "@jupyter-widgets/controls",
      "model_module_version": "1.5.0",
      "model_name": "CheckboxModel",
      "state": {
       "description": "Show source filepath",
       "disabled": false,
       "layout": "IPY_MODEL_f1446939f1eb40f58f2993d67891b583",
       "style": "IPY_MODEL_c9740aaa504d4f718248a8e375717743",
       "value": false
      }
     },
     "8119713c64fd43feb7109e78a18c9474": {
      "model_module": "@jupyter-widgets/controls",
      "model_module_version": "1.5.0",
      "model_name": "DescriptionStyleModel",
      "state": {
       "description_width": ""
      }
     },
     "823b6bab48944a5591f6c8edec693883": {
      "model_module": "@jupyter-widgets/controls",
      "model_module_version": "1.5.0",
      "model_name": "ToggleButtonModel",
      "state": {
       "description": "Show/hide",
       "layout": "IPY_MODEL_aab2dfe301d3471196bc470671e1165e",
       "style": "IPY_MODEL_ea811c70aef34e548afa662241a6c32f"
      }
     },
     "8275b6bf04794e638f82452a84d2078c": {
      "model_module": "@jupyter-widgets/base",
      "model_module_version": "1.2.0",
      "model_name": "LayoutModel",
      "state": {}
     },
     "83c19841f8b1415f9bf3fded249cb198": {
      "model_module": "@jupyter-widgets/controls",
      "model_module_version": "1.5.0",
      "model_name": "CheckboxModel",
      "state": {
       "description": "Show 'help(func)'",
       "disabled": false,
       "layout": "IPY_MODEL_3cc919508beb4a9da126a60dc07b2300",
       "style": "IPY_MODEL_4a4a0cc2d688448a97a7a94f934937f0",
       "value": true
      }
     },
     "8dbe4467c1a24f4c8668c87b7deeb222": {
      "model_module": "@jupyter-widgets/base",
      "model_module_version": "1.2.0",
      "model_name": "LayoutModel",
      "state": {}
     },
     "9569181a3c5c48b394fb3d7311ac2071": {
      "model_module": "@jupyter-widgets/base",
      "model_module_version": "1.2.0",
      "model_name": "LayoutModel",
      "state": {}
     },
     "9569a0bc2cdc4bdfbcb2a1b4143bc1bd": {
      "model_module": "@jupyter-widgets/base",
      "model_module_version": "1.2.0",
      "model_name": "LayoutModel",
      "state": {}
     },
     "9770d82154d7469daf679475aec1b98e": {
      "model_module": "@jupyter-widgets/controls",
      "model_module_version": "1.5.0",
      "model_name": "DescriptionStyleModel",
      "state": {
       "description_width": ""
      }
     },
     "9c3f97b8b1494f85917432e094b0496e": {
      "model_module": "@jupyter-widgets/base",
      "model_module_version": "1.2.0",
      "model_name": "LayoutModel",
      "state": {}
     },
     "9dc3b952e691428084a9714a1e4a3d6a": {
      "model_module": "@jupyter-widgets/base",
      "model_module_version": "1.2.0",
      "model_name": "LayoutModel",
      "state": {}
     },
     "9f674afb090f47bfa3d8e6c487814fdb": {
      "model_module": "@jupyter-widgets/controls",
      "model_module_version": "1.5.0",
      "model_name": "HBoxModel",
      "state": {
       "children": [
        "IPY_MODEL_6367af69289147e7aa892860c56bc265",
        "IPY_MODEL_4b89f1f5e2534cbfa74945e24a5761ea",
        "IPY_MODEL_823b6bab48944a5591f6c8edec693883"
       ],
       "layout": "IPY_MODEL_6f07bb450bb34e41a2bc22a676ffce02"
      }
     },
     "a0776d115ac644eebc2b7f119017100d": {
      "model_module": "@jupyter-widgets/base",
      "model_module_version": "1.2.0",
      "model_name": "LayoutModel",
      "state": {}
     },
     "a508d64c72124f13b4fca15294243829": {
      "model_module": "@jupyter-widgets/controls",
      "model_module_version": "1.5.0",
      "model_name": "DropdownModel",
      "state": {
       "_options_labels": [
        "check_column"
       ],
       "index": 0,
       "layout": "IPY_MODEL_a0776d115ac644eebc2b7f119017100d",
       "style": "IPY_MODEL_bb123399fee24cd6857710068b6f4080"
      }
     },
     "a557bc44cd3d40b1a39c090e878f34d3": {
      "model_module": "@jupyter-widgets/controls",
      "model_module_version": "1.5.0",
      "model_name": "CheckboxModel",
      "state": {
       "description": "Show 'help(func)'",
       "disabled": false,
       "layout": "IPY_MODEL_3f3392c48c95437e97d0bef391873d33",
       "style": "IPY_MODEL_8119713c64fd43feb7109e78a18c9474",
       "value": true
      }
     },
     "a61e6213b14e4e9d8e9a223c6d37349b": {
      "model_module": "@jupyter-widgets/base",
      "model_module_version": "1.2.0",
      "model_name": "LayoutModel",
      "state": {}
     },
     "a84e3aa3b9674c1a8679effe4d0687c1": {
      "model_module": "@jupyter-widgets/controls",
      "model_module_version": "1.5.0",
      "model_name": "LabelModel",
      "state": {
       "layout": "IPY_MODEL_a61e6213b14e4e9d8e9a223c6d37349b",
       "style": "IPY_MODEL_b564d2485982457a8baa0f89c1c28085",
       "value": "Function Menu"
      }
     },
     "a8ed7289f0434a30b20fc5381b66c7b5": {
      "model_module": "@jupyter-widgets/base",
      "model_module_version": "1.2.0",
      "model_name": "LayoutModel",
      "state": {}
     },
     "aab2dfe301d3471196bc470671e1165e": {
      "model_module": "@jupyter-widgets/base",
      "model_module_version": "1.2.0",
      "model_name": "LayoutModel",
      "state": {}
     },
     "b46841a445b34b7da2eb542a2b20eaf9": {
      "model_module": "@jupyter-widgets/base",
      "model_module_version": "1.2.0",
      "model_name": "LayoutModel",
      "state": {}
     },
     "b564d2485982457a8baa0f89c1c28085": {
      "model_module": "@jupyter-widgets/controls",
      "model_module_version": "1.5.0",
      "model_name": "DescriptionStyleModel",
      "state": {
       "description_width": ""
      }
     },
     "b6bc97f6e0f341e0986688c6a6fafec8": {
      "model_module": "@jupyter-widgets/base",
      "model_module_version": "1.2.0",
      "model_name": "LayoutModel",
      "state": {}
     },
     "bb123399fee24cd6857710068b6f4080": {
      "model_module": "@jupyter-widgets/controls",
      "model_module_version": "1.5.0",
      "model_name": "DescriptionStyleModel",
      "state": {
       "description_width": ""
      }
     },
     "bb837090c70b4b3eb7cbc03f4203a7d4": {
      "model_module": "@jupyter-widgets/base",
      "model_module_version": "1.2.0",
      "model_name": "LayoutModel",
      "state": {}
     },
     "be2cc3462e034652a8b3d1c24f806185": {
      "model_module": "@jupyter-widgets/controls",
      "model_module_version": "1.5.0",
      "model_name": "LabelModel",
      "state": {
       "layout": "IPY_MODEL_a8ed7289f0434a30b20fc5381b66c7b5",
       "style": "IPY_MODEL_d6fe49e52ded43d1b57185e9d4b1b2d8",
       "value": "Function Menu"
      }
     },
     "c02cecc40f3a44078a29d7d7c24a72f6": {
      "model_module": "@jupyter-widgets/base",
      "model_module_version": "1.2.0",
      "model_name": "LayoutModel",
      "state": {}
     },
     "c10c6e72b9c64e94b9045445d9c4178f": {
      "model_module": "@jupyter-widgets/controls",
      "model_module_version": "1.5.0",
      "model_name": "HBoxModel",
      "state": {
       "children": [
        "IPY_MODEL_a557bc44cd3d40b1a39c090e878f34d3",
        "IPY_MODEL_506d3014e5b64f9aadd2898c7573bca2",
        "IPY_MODEL_63442601bcc1468eaf452b18de857450"
       ],
       "layout": "IPY_MODEL_bb837090c70b4b3eb7cbc03f4203a7d4"
      }
     },
     "c6e2dd9eec584e81a40841ecb95c3e5b": {
      "model_module": "@jupyter-widgets/output",
      "model_module_version": "1.0.0",
      "model_name": "OutputModel",
      "state": {
       "layout": "IPY_MODEL_0f226b03466f4448aa281a4547661f10",
       "outputs": [
        {
         "data": {
          "text/plain": "'Press \"Show/hide\" for display'"
         },
         "metadata": {},
         "output_type": "display_data"
        }
       ]
      }
     },
     "c6f36fcaba7d4b098ea8f271fe7dfddb": {
      "model_module": "@jupyter-widgets/controls",
      "model_module_version": "1.5.0",
      "model_name": "DropdownModel",
      "state": {
       "_options_labels": [
        "check_column"
       ],
       "index": 0,
       "layout": "IPY_MODEL_8dbe4467c1a24f4c8668c87b7deeb222",
       "style": "IPY_MODEL_366e668ca78b4b3c86e6410179d354d4"
      }
     },
     "c9740aaa504d4f718248a8e375717743": {
      "model_module": "@jupyter-widgets/controls",
      "model_module_version": "1.5.0",
      "model_name": "DescriptionStyleModel",
      "state": {
       "description_width": ""
      }
     },
     "ced42461ec6347c880e7c35bf9494359": {
      "model_module": "@jupyter-widgets/controls",
      "model_module_version": "1.5.0",
      "model_name": "DescriptionStyleModel",
      "state": {
       "description_width": ""
      }
     },
     "d27e9fc4f36f491f9cef0171e86879e8": {
      "model_module": "@jupyter-widgets/controls",
      "model_module_version": "1.5.0",
      "model_name": "ToggleButtonModel",
      "state": {
       "description": "Show/hide",
       "layout": "IPY_MODEL_635dfed9f6ca4b74a1014b4dc73794cf",
       "style": "IPY_MODEL_3740c9203bee431d9e9029b94f47adb1"
      }
     },
     "d6fe49e52ded43d1b57185e9d4b1b2d8": {
      "model_module": "@jupyter-widgets/controls",
      "model_module_version": "1.5.0",
      "model_name": "DescriptionStyleModel",
      "state": {
       "description_width": ""
      }
     },
     "d9adc13f48be4a3eb8f5eb6fc077e814": {
      "model_module": "@jupyter-widgets/controls",
      "model_module_version": "1.5.0",
      "model_name": "DescriptionStyleModel",
      "state": {
       "description_width": ""
      }
     },
     "e02c11c2b7ff4bdabca014f01b187831": {
      "model_module": "@jupyter-widgets/base",
      "model_module_version": "1.2.0",
      "model_name": "LayoutModel",
      "state": {}
     },
     "e06128ac46624ad9a5cc319eda753d0e": {
      "model_module": "@jupyter-widgets/controls",
      "model_module_version": "1.5.0",
      "model_name": "DescriptionStyleModel",
      "state": {
       "description_width": ""
      }
     },
     "e2dc730f03e8480aa2b845ec703121d6": {
      "model_module": "@jupyter-widgets/controls",
      "model_module_version": "1.5.0",
      "model_name": "DescriptionStyleModel",
      "state": {
       "description_width": ""
      }
     },
     "e2f71b8ef21c4756b7a2842aa075fff7": {
      "model_module": "@jupyter-widgets/controls",
      "model_module_version": "1.5.0",
      "model_name": "VBoxModel",
      "state": {
       "children": [
        "IPY_MODEL_07ddc3f06bf54adbbfa0bd52b7f505fe",
        "IPY_MODEL_74b3b70562864187b13efa1d8da9cee0"
       ],
       "layout": "IPY_MODEL_f6f7ee4a5393460a87e5edbb11af626e"
      }
     },
     "ea811c70aef34e548afa662241a6c32f": {
      "model_module": "@jupyter-widgets/controls",
      "model_module_version": "1.5.0",
      "model_name": "DescriptionStyleModel",
      "state": {
       "description_width": ""
      }
     },
     "eba4e6d12ccf485385162ca64ed81e44": {
      "model_module": "@jupyter-widgets/controls",
      "model_module_version": "1.5.0",
      "model_name": "CheckboxModel",
      "state": {
       "description": "Show source code",
       "disabled": false,
       "layout": "IPY_MODEL_ff621d2f910046ae93d046e4ffe65470",
       "style": "IPY_MODEL_1906d60dcaaf440e94dba0fb2c26ad48",
       "value": true
      }
     },
     "ec168acb3b8d4c5eacb7b50c9f8bef5d": {
      "model_module": "@jupyter-widgets/base",
      "model_module_version": "1.2.0",
      "model_name": "LayoutModel",
      "state": {}
     },
     "eefd3f6c116947b3879e3e35bdd5e3c8": {
      "model_module": "@jupyter-widgets/controls",
      "model_module_version": "1.5.0",
      "model_name": "GridBoxModel",
      "state": {
       "box_style": "warning",
       "children": [
        "IPY_MODEL_79de08f6684a47999405223039f78cb3",
        "IPY_MODEL_610f0391113940e384ae7f725fd0dd0f"
       ],
       "layout": "IPY_MODEL_c02cecc40f3a44078a29d7d7c24a72f6"
      }
     },
     "f1446939f1eb40f58f2993d67891b583": {
      "model_module": "@jupyter-widgets/base",
      "model_module_version": "1.2.0",
      "model_name": "LayoutModel",
      "state": {}
     },
     "f14814c630fb4bc3ab2fb769749d9602": {
      "model_module": "@jupyter-widgets/controls",
      "model_module_version": "1.5.0",
      "model_name": "DescriptionStyleModel",
      "state": {
       "description_width": ""
      }
     },
     "f46e65c665d04712aca6834961b9b09a": {
      "model_module": "@jupyter-widgets/controls",
      "model_module_version": "1.5.0",
      "model_name": "ToggleButtonModel",
      "state": {
       "description": "Show/hide",
       "layout": "IPY_MODEL_9569181a3c5c48b394fb3d7311ac2071",
       "style": "IPY_MODEL_0c4612348f6b437ebf80698b31f69407"
      }
     },
     "f5cdda2e6eea41d3a1a64a7088bbac08": {
      "model_module": "@jupyter-widgets/controls",
      "model_module_version": "1.5.0",
      "model_name": "GridBoxModel",
      "state": {
       "box_style": "warning",
       "children": [
        "IPY_MODEL_e2f71b8ef21c4756b7a2842aa075fff7",
        "IPY_MODEL_c10c6e72b9c64e94b9045445d9c4178f"
       ],
       "layout": "IPY_MODEL_658de461180b4a9d907077311383a6a6"
      }
     },
     "f6f7ee4a5393460a87e5edbb11af626e": {
      "model_module": "@jupyter-widgets/base",
      "model_module_version": "1.2.0",
      "model_name": "LayoutModel",
      "state": {}
     },
     "f8df1d41f6894cb3a17c7e7410b397d6": {
      "model_module": "@jupyter-widgets/controls",
      "model_module_version": "1.5.0",
      "model_name": "HBoxModel",
      "state": {
       "children": [
        "IPY_MODEL_be2cc3462e034652a8b3d1c24f806185",
        "IPY_MODEL_c6f36fcaba7d4b098ea8f271fe7dfddb",
        "IPY_MODEL_f46e65c665d04712aca6834961b9b09a"
       ],
       "layout": "IPY_MODEL_4b255917ffa24263a84ed544acf03e24"
      }
     },
     "f97fd241d3eb47bcbf17115e050e5bdc": {
      "model_module": "@jupyter-widgets/base",
      "model_module_version": "1.2.0",
      "model_name": "LayoutModel",
      "state": {}
     },
     "f9d8327fa7034d268ce01af874d5c6b6": {
      "model_module": "@jupyter-widgets/output",
      "model_module_version": "1.0.0",
      "model_name": "OutputModel",
      "state": {
       "layout": "IPY_MODEL_9dc3b952e691428084a9714a1e4a3d6a",
       "outputs": [
        {
         "data": {
          "text/plain": "'Press \"Show/hide\" for display'"
         },
         "metadata": {},
         "output_type": "display_data"
        }
       ]
      }
     },
     "ff621d2f910046ae93d046e4ffe65470": {
      "model_module": "@jupyter-widgets/base",
      "model_module_version": "1.2.0",
      "model_name": "LayoutModel",
      "state": {}
     }
    },
    "version_major": 2,
    "version_minor": 0
   }
  }
 },
 "nbformat": 4,
 "nbformat_minor": 2
}