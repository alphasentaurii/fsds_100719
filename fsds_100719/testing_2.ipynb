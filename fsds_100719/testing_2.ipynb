{
 "nbformat": 4,
 "nbformat_minor": 2,
 "metadata": {
  "language_info": {
   "name": "python",
   "codemirror_mode": {
    "name": "ipython",
    "version": 3
   },
   "version": "3.6.9"
  },
  "orig_nbformat": 2,
  "file_extension": ".py",
  "mimetype": "text/x-python",
  "name": "python",
  "npconvert_exporter": "python",
  "pygments_lexer": "ipython3",
  "version": 3
 },
 "cells": [
  {
   "cell_type": "markdown",
   "execution_count": null,
   "metadata": {},
   "outputs": [],
   "source": [
    "### Permutations\n",
    "\n",
    "- **Permutations have to do with arranging objects.**\n",
    "    - Order is important\n",
    "\n",
    "\n",
    "- **Permutations**:\n",
    "> ***How many ways to arrange n elements?***\n",
    "    $$P(n) = n!$$\n",
    "\n",
    "- **Permutations of a subset**\n",
    "> ***How many ways to select $k$ elements out of a pool of $n$ objects?***\n",
    "\n",
    "$$P_{k}^{n}= \\dfrac{n!}{(n-k)!}$$ \n",
    "this is known as a $k$-permutation of $n$.\n"
   ]
  },
  {
   "cell_type": "code",
   "execution_count": 13,
   "metadata": {},
   "outputs": [
    {
     "data": {
      "text/markdown": "### Permutations\n- **Permutations have to do with arranging objects.**\n    - Order is important\n\n- **Permutations**:\n\n> ***How many ways to arrange n elements?***\n    $$P(n) = n!$$\n\n- **Permutations of a subset**\n> ***How many ways to select $k$ elements out of a pool of $n$ objects?***\n\n$$P_{k}^{n}= \\dfrac{n!}{(n-k)!}$$ \nthis is known as a $k$-permutation of $n$.\n",
      "text/plain": "<IPython.core.display.Markdown object>"
     },
     "metadata": {},
     "output_type": "display_data"
    }
   ],
   "source": [
    "def prob_permutations():\n",
    "\n",
    "    permutations=\\\n",
    "\"\"\"### Permutations\n",
    "- **Permutations have to do with arranging objects.**\n",
    "    - Order is important\n",
    "\n",
    "- **Permutations**:\n",
    "\n",
    "> ***How many ways to arrange n elements?***\n",
    "    $$P(n) = n!$$\n",
    "\n",
    "- **Permutations of a subset**\n",
    "> ***How many ways to select $k$ elements out of a pool of $n$ objects?***\n",
    "\n",
    "$$P_{k}^{n}= \\dfrac{n!}{(n-k)!}$$ \n",
    "this is known as a $k$-permutation of $n$.\n",
    "\"\"\"\n",
    "    import IPython.display as dp\n",
    "    return display(dp.Markdown(permutations))\n",
    "\n",
    "prob_permutations()"
   ]
  },
  {
   "cell_type": "code",
   "execution_count": 40,
   "metadata": {},
   "outputs": [
    {
     "data": {
      "text/markdown": "### Permutations\n- **Permutations have to do with arranging objects.**\n- Order is important\n\n### Permutations of $n$:\n> ***How many ways to arrange $n$ objects?***\n\n$$P(n) = n!$$\n- where $n$ = total number of elements\n\n#### Permutations of a subset (the $k$-permutation of $n$)\n> ***How many ways to select $k$ elements out of a pool of $n$ objects?***\n\n$$ \\large P_{k}^{n}= \\dfrac{n!}{(n-k)!}$$ \n<center> this is known as a $k$-permutation of $n$. </center>\n\n### Permutations with Replacement:\n$$ \\large P_{j}^{n} = n^j $$\n- where $n$ = total number of elements\n- $j$ = number of positions to fill\n\n",
      "text/plain": "<IPython.core.display.Markdown object>"
     },
     "metadata": {},
     "output_type": "display_data"
    },
    {
     "data": {
      "text/markdown": "\n### Permutations with Replacement AKA Variations\n\n> The number of permutations/variaions with  replacement/repetition when picking $j$ many elements out of $n$ total elements.\n\n$$ \\large \\bar{P}_{j}^{n} = n^j $$\n- where $n$ = total number of elements\n- $j$ = number of positions to fill\n\n\n- Sometimes called **Variations** with notation:\n\n$$ \\large \\bar{V}_{j}^{n} = n^j$$\n\n",
      "text/plain": "<IPython.core.display.Markdown object>"
     },
     "metadata": {},
     "output_type": "display_data"
    }
   ],
   "source": [
    "def prob_permutations():\n",
    "\n",
    "    permutations=\\\n",
    "r\"\"\"### Permutations\n",
    "- **Permutations have to do with arranging objects.**\n",
    "- Order is important\n",
    "\n",
    "### Permutations of $n$:\n",
    "> ***How many ways to arrange $n$ objects?***\n",
    "\n",
    "$$P(n) = n!$$\n",
    "- where $n$ = total number of elements\n",
    "\n",
    "#### Permutations of a subset (the $k$-permutation of $n$)\n",
    "> ***How many ways to select $k$ elements out of a pool of $n$ objects?***\n",
    "\n",
    "$$ \\large P_{k}^{n}= \\dfrac{n!}{(n-k)!}$$ \n",
    "<center> this is known as a $k$-permutation of $n$. </center>\n",
    "\n",
    "### Permutations with Replacement:\n",
    "$$ \\large P_{j}^{n} = n^j $$\n",
    "- where $n$ = total number of elements\n",
    "- $j$ = number of positions to fill\n",
    "\n",
    "# \"\"\"\n",
    "\n",
    "#     permutation_w_replace=\\\n",
    "#     r\"\"\"\n",
    "# ### Permutations with Replacement AKA Variations\n",
    "\n",
    "# > The number of permutations/variaions with  replacement/repetition when picking $j$ many elements out of $n$ total elements.\n",
    "\n",
    "# $$ \\large \\bar{P}_{j}^{n} = n^j $$\n",
    "# - where $n$ = total number of elements\n",
    "# - $j$ = number of positions to fill\n",
    "\n",
    "\n",
    "# - Sometimes called **Variations** with notation:\n",
    "\n",
    "# $$ \\large \\bar{V}_{j}^{n} = n^j$$\n",
    "\n",
    "# \"\"\"\n",
    "    import IPython.display as dp\n",
    "    display(dp.Markdown(permutations))\n",
    "    display(dp.Markdown(permutation_w_replace))\n",
    "    # return display(dp.Markdown(permutations))\n",
    "\n",
    "prob_permutations()"
   ]
  },
  {
   "cell_type": "code",
   "execution_count": null,
   "metadata": {},
   "outputs": [],
   "source": []
  },
  {
   "cell_type": "code",
   "execution_count": null,
   "metadata": {},
   "outputs": [],
   "source": []
  }
 ]
}