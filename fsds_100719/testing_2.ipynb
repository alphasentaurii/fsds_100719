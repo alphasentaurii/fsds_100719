{
 "cells": [
  {
   "cell_type": "code",
   "execution_count": 4,
   "metadata": {
    "ExecuteTime": {
     "end_time": "2020-01-14T04:52:27.136031Z",
     "start_time": "2020-01-14T04:52:27.009133Z"
    }
   },
   "outputs": [
    {
     "name": "stdout",
     "output_type": "stream",
     "text": [
      "__init__.py      \u001b[34mds\u001b[m\u001b[m/              learn_scrape.py  testing_2.ipynb\r\n",
      "\u001b[34m__pycache__\u001b[m\u001b[m/     \u001b[34mft\u001b[m\u001b[m/              \u001b[34mpt\u001b[m\u001b[m/\r\n",
      "\u001b[34mdata\u001b[m\u001b[m/            imports.py       quick_refs.py\r\n",
      "datasets.py      \u001b[34mjmi\u001b[m\u001b[m/             testing.ipynb\r\n"
     ]
    }
   ],
   "source": []
  },
  {
   "cell_type": "code",
   "execution_count": 8,
   "metadata": {
    "ExecuteTime": {
     "end_time": "2020-01-14T04:53:12.686605Z",
     "start_time": "2020-01-14T04:53:12.329698Z"
    }
   },
   "outputs": [
    {
     "name": "stderr",
     "output_type": "stream",
     "text": [
      "//anaconda3/envs/learn-env/lib/python3.6/importlib/_bootstrap.py:219: RuntimeWarning: numpy.ufunc size changed, may indicate binary incompatibility. Expected 192 from C header, got 216 from PyObject\n",
      "  return f(*args, **kwds)\n"
     ]
    },
    {
     "name": "stdout",
     "output_type": "stream",
     "text": [
      "fsds_1007219  v0.6.4 loaded.  Read the docs: https://fsds.readthedocs.io/en/latest/ \n"
     ]
    },
    {
     "data": {
      "text/html": [
       "<style  type=\"text/css\" >\n",
       "</style><table id=\"T_c4b34ea6_3689_11ea_8582_acde48001122\" ><caption>Loaded Packages and Handles</caption><thead>    <tr>        <th class=\"col_heading level0 col0\" >Handle</th>        <th class=\"col_heading level0 col1\" >Package</th>        <th class=\"col_heading level0 col2\" >Description</th>    </tr></thead><tbody>\n",
       "                <tr>\n",
       "                                <td id=\"T_c4b34ea6_3689_11ea_8582_acde48001122row0_col0\" class=\"data row0 col0\" >dp</td>\n",
       "                        <td id=\"T_c4b34ea6_3689_11ea_8582_acde48001122row0_col1\" class=\"data row0 col1\" >IPython.display</td>\n",
       "                        <td id=\"T_c4b34ea6_3689_11ea_8582_acde48001122row0_col2\" class=\"data row0 col2\" >Display modules with helpful display and clearing commands.</td>\n",
       "            </tr>\n",
       "            <tr>\n",
       "                                <td id=\"T_c4b34ea6_3689_11ea_8582_acde48001122row1_col0\" class=\"data row1 col0\" >fs</td>\n",
       "                        <td id=\"T_c4b34ea6_3689_11ea_8582_acde48001122row1_col1\" class=\"data row1 col1\" >fsds_100719</td>\n",
       "                        <td id=\"T_c4b34ea6_3689_11ea_8582_acde48001122row1_col2\" class=\"data row1 col2\" >Custom data science bootcamp student package</td>\n",
       "            </tr>\n",
       "            <tr>\n",
       "                                <td id=\"T_c4b34ea6_3689_11ea_8582_acde48001122row2_col0\" class=\"data row2 col0\" >mpl</td>\n",
       "                        <td id=\"T_c4b34ea6_3689_11ea_8582_acde48001122row2_col1\" class=\"data row2 col1\" >matplotlib</td>\n",
       "                        <td id=\"T_c4b34ea6_3689_11ea_8582_acde48001122row2_col2\" class=\"data row2 col2\" >Matplotlib's base OOP module with formatting artists</td>\n",
       "            </tr>\n",
       "            <tr>\n",
       "                                <td id=\"T_c4b34ea6_3689_11ea_8582_acde48001122row3_col0\" class=\"data row3 col0\" >plt</td>\n",
       "                        <td id=\"T_c4b34ea6_3689_11ea_8582_acde48001122row3_col1\" class=\"data row3 col1\" >matplotlib.pyplot</td>\n",
       "                        <td id=\"T_c4b34ea6_3689_11ea_8582_acde48001122row3_col2\" class=\"data row3 col2\" >Matplotlib's matlab-like plotting module</td>\n",
       "            </tr>\n",
       "            <tr>\n",
       "                                <td id=\"T_c4b34ea6_3689_11ea_8582_acde48001122row4_col0\" class=\"data row4 col0\" >np</td>\n",
       "                        <td id=\"T_c4b34ea6_3689_11ea_8582_acde48001122row4_col1\" class=\"data row4 col1\" >numpy</td>\n",
       "                        <td id=\"T_c4b34ea6_3689_11ea_8582_acde48001122row4_col2\" class=\"data row4 col2\" >scientific computing with Python</td>\n",
       "            </tr>\n",
       "            <tr>\n",
       "                                <td id=\"T_c4b34ea6_3689_11ea_8582_acde48001122row5_col0\" class=\"data row5 col0\" >pd</td>\n",
       "                        <td id=\"T_c4b34ea6_3689_11ea_8582_acde48001122row5_col1\" class=\"data row5 col1\" >pandas</td>\n",
       "                        <td id=\"T_c4b34ea6_3689_11ea_8582_acde48001122row5_col2\" class=\"data row5 col2\" >High performance data structures and tools</td>\n",
       "            </tr>\n",
       "            <tr>\n",
       "                                <td id=\"T_c4b34ea6_3689_11ea_8582_acde48001122row6_col0\" class=\"data row6 col0\" >sns</td>\n",
       "                        <td id=\"T_c4b34ea6_3689_11ea_8582_acde48001122row6_col1\" class=\"data row6 col1\" >seaborn</td>\n",
       "                        <td id=\"T_c4b34ea6_3689_11ea_8582_acde48001122row6_col2\" class=\"data row6 col2\" >High-level data visualization library based on matplotlib</td>\n",
       "            </tr>\n",
       "    </tbody></table>"
      ],
      "text/plain": [
       "<pandas.io.formats.style.Styler at 0x1a1e34ac50>"
      ]
     },
     "metadata": {},
     "output_type": "display_data"
    }
   ],
   "source": [
    "from fsds_100719.imports import *"
   ]
  },
  {
   "cell_type": "code",
   "execution_count": 13,
   "metadata": {
    "ExecuteTime": {
     "end_time": "2020-01-14T04:54:48.434993Z",
     "start_time": "2020-01-14T04:54:48.430609Z"
    }
   },
   "outputs": [
    {
     "data": {
      "text/markdown": [
       "$$ \\text{Precision} = \\frac{\\text{Number of True Positives}}{\\text{Number of Predicted Positives}} $$    \n",
       "        $$ \\text{Recall} = \\frac{\\text{Number of True Positives}}{\\text{Number of Actual Total Positives}} $$  \n",
       "$$ \\text{Accuracy} = \\frac{\\text{Number of True Positives + True Negatives}}{\\text{Total Observations}} $$\n",
       "\n",
       "$$ \\text{F1 score} = 2 * \\frac{\\text{Precision * Recall}}{\\text{Precision + Recall}} $$"
      ],
      "text/plain": [
       "<IPython.core.display.Markdown object>"
      ]
     },
     "metadata": {},
     "output_type": "display_data"
    }
   ],
   "source": [
    "def evaluation_metrics(markdown=True):\n",
    "    from IPython.display import Markdown,display,HTML\n",
    "    if markdown:\n",
    "        formula = r'''$$ \\text{Precision} = \\frac{\\text{Number of True Positives}}{\\text{Number of Predicted Positives}} $$    \n",
    "        $$ \\text{Recall} = \\frac{\\text{Number of True Positives}}{\\text{Number of Actual Total Positives}} $$  \n",
    "$$ \\text{Accuracy} = \\frac{\\text{Number of True Positives + True Negatives}}{\\text{Total Observations}} $$\n",
    "\n",
    "$$ \\text{F1 score} = 2 * \\frac{\\text{Precision * Recall}}{\\text{Precision + Recall}} $$'''        \n",
    "        display(Markdown(formula))\n",
    "        \n",
    "evaluation_metrics()"
   ]
  },
  {
   "cell_type": "code",
   "execution_count": 9,
   "metadata": {
    "ExecuteTime": {
     "end_time": "2020-01-14T04:53:22.532400Z",
     "start_time": "2020-01-14T04:53:22.525668Z"
    }
   },
   "outputs": [
    {
     "name": "stdout",
     "output_type": "stream",
     "text": [
      "------------------------------------------------------------------------------------\n",
      "------ HELP ------------------------------------------------------------------------\n",
      "\n",
      "Help on function evaluation_metrics in module quick_refs:\n",
      "\n",
      "evaluation_metrics(markdown=True)\n",
      "\n",
      "------------------------------------------------------------------------------------\n",
      "------ SOURCE ----------------------------------------------------------------------\n"
     ]
    },
    {
     "data": {
      "text/markdown": [
       "```python\n",
       "def evaluation_metrics(markdown=True):\n",
       "    from IPython.display import Markdown,display,HTML\n",
       "    if markdown:\n",
       "        formula = '''\n",
       "        $$ \\text{Precision} = \\frac{\\text{Number of True Positives}}{\\text{Number of Predicted Positives}} $$    \n",
       "        $$ \\text{Recall} = \\frac{\\text{Number of True Positives}}{\\text{Number of Actual Total Positives}} $$  \n",
       "        $$ \\text{Accuracy} = \\frac{\\text{Number of True Positives + True Negatives}}{\\text{Total Observations}} $$\n",
       "        $$ \\text{F1 score} = 2 * \\frac{\\text{Precision * Recall}}{\\text{Precision + Recall}} $$'''        \n",
       "        display(Markdown(formula))\n",
       "\n",
       "```"
      ],
      "text/plain": [
       "<IPython.core.display.Markdown object>"
      ]
     },
     "metadata": {},
     "output_type": "display_data"
    }
   ],
   "source": [
    "import quick_refs as qr\n",
    "fs.ihelp(qr.evaluation_metrics)"
   ]
  },
  {
   "cell_type": "markdown",
   "metadata": {},
   "source": [
    "### Permutations\n",
    "\n",
    "- **Permutations have to do with arranging objects.**\n",
    "    - Order is important\n",
    "\n",
    "\n",
    "- **Permutations**:\n",
    "> ***How many ways to arrange n elements?***\n",
    "    $$P(n) = n!$$\n",
    "\n",
    "- **Permutations of a subset**\n",
    "> ***How many ways to select $k$ elements out of a pool of $n$ objects?***\n",
    "\n",
    "$$P_{k}^{n}= \\dfrac{n!}{(n-k)!}$$ \n",
    "this is known as a $k$-permutation of $n$.\n"
   ]
  },
  {
   "cell_type": "code",
   "execution_count": 13,
   "metadata": {},
   "outputs": [
    {
     "data": {
      "text/markdown": [
       "### Permutations\n",
       "- **Permutations have to do with arranging objects.**\n",
       "    - Order is important\n",
       "\n",
       "- **Permutations**:\n",
       "\n",
       "> ***How many ways to arrange n elements?***\n",
       "    $$P(n) = n!$$\n",
       "\n",
       "- **Permutations of a subset**\n",
       "> ***How many ways to select $k$ elements out of a pool of $n$ objects?***\n",
       "\n",
       "$$P_{k}^{n}= \\dfrac{n!}{(n-k)!}$$ \n",
       "this is known as a $k$-permutation of $n$.\n"
      ],
      "text/plain": [
       "<IPython.core.display.Markdown object>"
      ]
     },
     "metadata": {},
     "output_type": "display_data"
    }
   ],
   "source": [
    "def prob_permutations():\n",
    "\n",
    "    permutations=\\\n",
    "\"\"\"### Permutations\n",
    "- **Permutations have to do with arranging objects.**\n",
    "    - Order is important\n",
    "\n",
    "- **Permutations**:\n",
    "\n",
    "> ***How many ways to arrange n elements?***\n",
    "    $$P(n) = n!$$\n",
    "\n",
    "- **Permutations of a subset**\n",
    "> ***How many ways to select $k$ elements out of a pool of $n$ objects?***\n",
    "\n",
    "$$P_{k}^{n}= \\dfrac{n!}{(n-k)!}$$ \n",
    "this is known as a $k$-permutation of $n$.\n",
    "\"\"\"\n",
    "    import IPython.display as dp\n",
    "    return display(dp.Markdown(permutations))\n",
    "\n",
    "prob_permutations()"
   ]
  },
  {
   "cell_type": "code",
   "execution_count": 40,
   "metadata": {},
   "outputs": [
    {
     "data": {
      "text/markdown": [
       "### Permutations\n",
       "- **Permutations have to do with arranging objects.**\n",
       "- Order is important\n",
       "\n",
       "### Permutations of $n$:\n",
       "> ***How many ways to arrange $n$ objects?***\n",
       "\n",
       "$$P(n) = n!$$\n",
       "- where $n$ = total number of elements\n",
       "\n",
       "#### Permutations of a subset (the $k$-permutation of $n$)\n",
       "> ***How many ways to select $k$ elements out of a pool of $n$ objects?***\n",
       "\n",
       "$$ \\large P_{k}^{n}= \\dfrac{n!}{(n-k)!}$$ \n",
       "<center> this is known as a $k$-permutation of $n$. </center>\n",
       "\n",
       "### Permutations with Replacement:\n",
       "$$ \\large P_{j}^{n} = n^j $$\n",
       "- where $n$ = total number of elements\n",
       "- $j$ = number of positions to fill\n",
       "\n"
      ],
      "text/plain": [
       "<IPython.core.display.Markdown object>"
      ]
     },
     "metadata": {},
     "output_type": "display_data"
    },
    {
     "data": {
      "text/markdown": [
       "\n",
       "### Permutations with Replacement AKA Variations\n",
       "\n",
       "> The number of permutations/variaions with  replacement/repetition when picking $j$ many elements out of $n$ total elements.\n",
       "\n",
       "$$ \\large \\bar{P}_{j}^{n} = n^j $$\n",
       "- where $n$ = total number of elements\n",
       "- $j$ = number of positions to fill\n",
       "\n",
       "\n",
       "- Sometimes called **Variations** with notation:\n",
       "\n",
       "$$ \\large \\bar{V}_{j}^{n} = n^j$$\n",
       "\n"
      ],
      "text/plain": [
       "<IPython.core.display.Markdown object>"
      ]
     },
     "metadata": {},
     "output_type": "display_data"
    }
   ],
   "source": [
    "def prob_permutations():\n",
    "\n",
    "    permutations=\\\n",
    "r\"\"\"### Permutations\n",
    "- **Permutations have to do with arranging objects.**\n",
    "- Order is important\n",
    "\n",
    "### Permutations of $n$:\n",
    "> ***How many ways to arrange $n$ objects?***\n",
    "\n",
    "$$P(n) = n!$$\n",
    "- where $n$ = total number of elements\n",
    "\n",
    "#### Permutations of a subset (the $k$-permutation of $n$)\n",
    "> ***How many ways to select $k$ elements out of a pool of $n$ objects?***\n",
    "\n",
    "$$ \\large P_{k}^{n}= \\dfrac{n!}{(n-k)!}$$ \n",
    "<center> this is known as a $k$-permutation of $n$. </center>\n",
    "\n",
    "### Permutations with Replacement:\n",
    "$$ \\large P_{j}^{n} = n^j $$\n",
    "- where $n$ = total number of elements\n",
    "- $j$ = number of positions to fill\n",
    "\n",
    "# \"\"\"\n",
    "\n",
    "#     permutation_w_replace=\\\n",
    "#     r\"\"\"\n",
    "# ### Permutations with Replacement AKA Variations\n",
    "\n",
    "# > The number of permutations/variaions with  replacement/repetition when picking $j$ many elements out of $n$ total elements.\n",
    "\n",
    "# $$ \\large \\bar{P}_{j}^{n} = n^j $$\n",
    "# - where $n$ = total number of elements\n",
    "# - $j$ = number of positions to fill\n",
    "\n",
    "\n",
    "# - Sometimes called **Variations** with notation:\n",
    "\n",
    "# $$ \\large \\bar{V}_{j}^{n} = n^j$$\n",
    "\n",
    "# \"\"\"\n",
    "    import IPython.display as dp\n",
    "    display(dp.Markdown(permutations))\n",
    "    display(dp.Markdown(permutation_w_replace))\n",
    "    # return display(dp.Markdown(permutations))\n",
    "\n",
    "prob_permutations()"
   ]
  },
  {
   "cell_type": "code",
   "execution_count": null,
   "metadata": {},
   "outputs": [],
   "source": []
  },
  {
   "cell_type": "code",
   "execution_count": null,
   "metadata": {},
   "outputs": [],
   "source": []
  }
 ],
 "metadata": {
  "file_extension": ".py",
  "kernelspec": {
   "display_name": "Python 3",
   "language": "python",
   "name": "python3"
  },
  "language_info": {
   "codemirror_mode": {
    "name": "ipython",
    "version": 3
   },
   "file_extension": ".py",
   "mimetype": "text/x-python",
   "name": "python",
   "nbconvert_exporter": "python",
   "pygments_lexer": "ipython3",
   "version": "3.6.9"
  },
  "mimetype": "text/x-python",
  "name": "python",
  "npconvert_exporter": "python",
  "pygments_lexer": "ipython3",
  "toc": {
   "base_numbering": 1,
   "nav_menu": {},
   "number_sections": false,
   "sideBar": true,
   "skip_h1_title": false,
   "title_cell": "Table of Contents",
   "title_sidebar": "Contents",
   "toc_cell": false,
   "toc_position": {},
   "toc_section_display": true,
   "toc_window_display": true
  },
  "version": 3
 },
 "nbformat": 4,
 "nbformat_minor": 2
}
